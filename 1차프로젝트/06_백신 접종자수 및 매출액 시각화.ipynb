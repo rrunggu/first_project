{
 "cells": [
  {
   "cell_type": "code",
   "execution_count": 1,
   "metadata": {},
   "outputs": [],
   "source": [
    "import pandas as pd\n",
    "import numpy as np\n",
    "import seaborn as sns"
   ]
  },
  {
   "cell_type": "code",
   "execution_count": 2,
   "metadata": {},
   "outputs": [],
   "source": [
    "import requests\n",
    "from bs4 import BeautifulSoup\n",
    "from urllib.parse import urlencode,quote\n",
    "import urllib.request\n",
    "import json"
   ]
  },
  {
   "cell_type": "code",
   "execution_count": 3,
   "metadata": {},
   "outputs": [],
   "source": [
    "#그래프 패키지 \n",
    "import matplotlib.pyplot as plt \n",
    "%matplotlib inline "
   ]
  },
  {
   "cell_type": "code",
   "execution_count": 4,
   "metadata": {},
   "outputs": [],
   "source": [
    "# 한글 문제 해결\n",
    "import platform\n",
    "\n",
    "from matplotlib import font_manager, rc\n",
    "plt.rcParams['axes.unicode_minus'] = False\n",
    "\n",
    "if platform.system() == 'Darwin':  # 맥OS \n",
    "    rc('font', family='AppleGothic')\n",
    "elif platform.system() == 'Windows':  # 윈도우\n",
    "    path = \"c:/Windows/Fonts/malgun.ttf\"\n",
    "    font_name = font_manager.FontProperties(fname=path).get_name()\n",
    "    rc('font', family=font_name)\n",
    "else:\n",
    "    print('Unknown system...  sorry~~~')"
   ]
  },
  {
   "cell_type": "code",
   "execution_count": 5,
   "metadata": {},
   "outputs": [],
   "source": [
    "# 동시 출력\n",
    "from IPython.core.interactiveshell import InteractiveShell\n",
    "InteractiveShell.ast_node_interactivity=\"all\""
   ]
  },
  {
   "cell_type": "code",
   "execution_count": 6,
   "metadata": {},
   "outputs": [],
   "source": [
    "seoul_vc = pd.read_csv('./result/finaly_data_서울시.csv')\n",
    "busan_vc = pd.read_csv('./result/finaly_data_부산시.csv')\n",
    "avg_movie = pd.read_csv(\"./data/2019_평균자료_영화.csv\", thousands=',', encoding='UTF-8')"
   ]
  },
  {
   "cell_type": "code",
   "execution_count": 7,
   "metadata": {
    "scrolled": true
   },
   "outputs": [
    {
     "data": {
      "text/html": [
       "<div>\n",
       "<style scoped>\n",
       "    .dataframe tbody tr th:only-of-type {\n",
       "        vertical-align: middle;\n",
       "    }\n",
       "\n",
       "    .dataframe tbody tr th {\n",
       "        vertical-align: top;\n",
       "    }\n",
       "\n",
       "    .dataframe thead th {\n",
       "        text-align: right;\n",
       "    }\n",
       "</style>\n",
       "<table border=\"1\" class=\"dataframe\">\n",
       "  <thead>\n",
       "    <tr style=\"text-align: right;\">\n",
       "      <th></th>\n",
       "      <th>Unnamed: 0</th>\n",
       "      <th>지역</th>\n",
       "      <th>매출액</th>\n",
       "      <th>관객수</th>\n",
       "      <th>주</th>\n",
       "      <th>1차접종누계</th>\n",
       "      <th>2차접종누계</th>\n",
       "    </tr>\n",
       "  </thead>\n",
       "  <tbody>\n",
       "    <tr>\n",
       "      <th>0</th>\n",
       "      <td>0</td>\n",
       "      <td>서울시</td>\n",
       "      <td>3361656490</td>\n",
       "      <td>368804</td>\n",
       "      <td>2020-08-16</td>\n",
       "      <td>NaN</td>\n",
       "      <td>NaN</td>\n",
       "    </tr>\n",
       "    <tr>\n",
       "      <th>1</th>\n",
       "      <td>1</td>\n",
       "      <td>서울시</td>\n",
       "      <td>2189550260</td>\n",
       "      <td>247399</td>\n",
       "      <td>2020-08-23</td>\n",
       "      <td>NaN</td>\n",
       "      <td>NaN</td>\n",
       "    </tr>\n",
       "    <tr>\n",
       "      <th>2</th>\n",
       "      <td>2</td>\n",
       "      <td>서울시</td>\n",
       "      <td>1842116650</td>\n",
       "      <td>200100</td>\n",
       "      <td>2020-08-30</td>\n",
       "      <td>NaN</td>\n",
       "      <td>NaN</td>\n",
       "    </tr>\n",
       "    <tr>\n",
       "      <th>3</th>\n",
       "      <td>3</td>\n",
       "      <td>서울시</td>\n",
       "      <td>1733144880</td>\n",
       "      <td>188395</td>\n",
       "      <td>2020-09-06</td>\n",
       "      <td>NaN</td>\n",
       "      <td>NaN</td>\n",
       "    </tr>\n",
       "    <tr>\n",
       "      <th>4</th>\n",
       "      <td>4</td>\n",
       "      <td>서울시</td>\n",
       "      <td>1571785690</td>\n",
       "      <td>172993</td>\n",
       "      <td>2020-09-13</td>\n",
       "      <td>NaN</td>\n",
       "      <td>NaN</td>\n",
       "    </tr>\n",
       "  </tbody>\n",
       "</table>\n",
       "</div>"
      ],
      "text/plain": [
       "   Unnamed: 0   지역         매출액     관객수           주  1차접종누계  2차접종누계\n",
       "0           0  서울시  3361656490  368804  2020-08-16     NaN     NaN\n",
       "1           1  서울시  2189550260  247399  2020-08-23     NaN     NaN\n",
       "2           2  서울시  1842116650  200100  2020-08-30     NaN     NaN\n",
       "3           3  서울시  1733144880  188395  2020-09-06     NaN     NaN\n",
       "4           4  서울시  1571785690  172993  2020-09-13     NaN     NaN"
      ]
     },
     "execution_count": 7,
     "metadata": {},
     "output_type": "execute_result"
    },
    {
     "data": {
      "text/html": [
       "<div>\n",
       "<style scoped>\n",
       "    .dataframe tbody tr th:only-of-type {\n",
       "        vertical-align: middle;\n",
       "    }\n",
       "\n",
       "    .dataframe tbody tr th {\n",
       "        vertical-align: top;\n",
       "    }\n",
       "\n",
       "    .dataframe thead th {\n",
       "        text-align: right;\n",
       "    }\n",
       "</style>\n",
       "<table border=\"1\" class=\"dataframe\">\n",
       "  <thead>\n",
       "    <tr style=\"text-align: right;\">\n",
       "      <th></th>\n",
       "      <th>Unnamed: 0</th>\n",
       "      <th>지역</th>\n",
       "      <th>매출액</th>\n",
       "      <th>관객수</th>\n",
       "      <th>주</th>\n",
       "      <th>1차접종누계</th>\n",
       "      <th>2차접종누계</th>\n",
       "    </tr>\n",
       "  </thead>\n",
       "  <tbody>\n",
       "    <tr>\n",
       "      <th>0</th>\n",
       "      <td>0</td>\n",
       "      <td>부산시</td>\n",
       "      <td>1114537230</td>\n",
       "      <td>123943</td>\n",
       "      <td>2020-08-16</td>\n",
       "      <td>NaN</td>\n",
       "      <td>NaN</td>\n",
       "    </tr>\n",
       "    <tr>\n",
       "      <th>1</th>\n",
       "      <td>1</td>\n",
       "      <td>부산시</td>\n",
       "      <td>618924290</td>\n",
       "      <td>71890</td>\n",
       "      <td>2020-08-23</td>\n",
       "      <td>NaN</td>\n",
       "      <td>NaN</td>\n",
       "    </tr>\n",
       "    <tr>\n",
       "      <th>2</th>\n",
       "      <td>2</td>\n",
       "      <td>부산시</td>\n",
       "      <td>467448880</td>\n",
       "      <td>53630</td>\n",
       "      <td>2020-08-30</td>\n",
       "      <td>NaN</td>\n",
       "      <td>NaN</td>\n",
       "    </tr>\n",
       "    <tr>\n",
       "      <th>3</th>\n",
       "      <td>3</td>\n",
       "      <td>부산시</td>\n",
       "      <td>401747560</td>\n",
       "      <td>45878</td>\n",
       "      <td>2020-09-06</td>\n",
       "      <td>NaN</td>\n",
       "      <td>NaN</td>\n",
       "    </tr>\n",
       "    <tr>\n",
       "      <th>4</th>\n",
       "      <td>4</td>\n",
       "      <td>부산시</td>\n",
       "      <td>350543860</td>\n",
       "      <td>40374</td>\n",
       "      <td>2020-09-13</td>\n",
       "      <td>NaN</td>\n",
       "      <td>NaN</td>\n",
       "    </tr>\n",
       "  </tbody>\n",
       "</table>\n",
       "</div>"
      ],
      "text/plain": [
       "   Unnamed: 0   지역         매출액     관객수           주  1차접종누계  2차접종누계\n",
       "0           0  부산시  1114537230  123943  2020-08-16     NaN     NaN\n",
       "1           1  부산시   618924290   71890  2020-08-23     NaN     NaN\n",
       "2           2  부산시   467448880   53630  2020-08-30     NaN     NaN\n",
       "3           3  부산시   401747560   45878  2020-09-06     NaN     NaN\n",
       "4           4  부산시   350543860   40374  2020-09-13     NaN     NaN"
      ]
     },
     "execution_count": 7,
     "metadata": {},
     "output_type": "execute_result"
    }
   ],
   "source": [
    "seoul_vc.head()\n",
    "busan_vc.head()"
   ]
  },
  {
   "cell_type": "markdown",
   "metadata": {},
   "source": [
    "## 서울 데이터 시각화 - 1차 2차 백신 누적 접종 현황과 영화관 매출액"
   ]
  },
  {
   "cell_type": "code",
   "execution_count": null,
   "metadata": {},
   "outputs": [],
   "source": []
  },
  {
   "cell_type": "code",
   "execution_count": 8,
   "metadata": {},
   "outputs": [
    {
     "name": "stderr",
     "output_type": "stream",
     "text": [
      "<ipython-input-8-8ae0d0c4e16d>:23: UserWarning: FixedFormatter should only be used together with FixedLocator\n",
      "  fig1.set_xticklabels(fig1.get_xticklabels(), rotation=-55, fontsize='small')\n"
     ]
    },
    {
     "data": {
      "text/plain": [
       "[Text(0, 0, '2020-08-16'),\n",
       " Text(1, 0, '2020-08-23'),\n",
       " Text(2, 0, '2020-08-30'),\n",
       " Text(3, 0, '2020-09-06'),\n",
       " Text(4, 0, '2020-09-13'),\n",
       " Text(5, 0, '2020-09-20'),\n",
       " Text(6, 0, '2020-09-27'),\n",
       " Text(7, 0, '2020-10-04'),\n",
       " Text(8, 0, '2020-10-11'),\n",
       " Text(9, 0, '2020-10-18'),\n",
       " Text(10, 0, '2020-10-25'),\n",
       " Text(11, 0, '2020-11-01'),\n",
       " Text(12, 0, '2020-11-08'),\n",
       " Text(13, 0, '2020-11-15'),\n",
       " Text(14, 0, '2020-11-22'),\n",
       " Text(15, 0, '2020-11-29'),\n",
       " Text(16, 0, '2020-12-06'),\n",
       " Text(17, 0, '2020-12-13'),\n",
       " Text(18, 0, '2020-12-20'),\n",
       " Text(19, 0, '2020-12-27'),\n",
       " Text(20, 0, '2021-01-01'),\n",
       " Text(21, 0, '2021-01-08'),\n",
       " Text(22, 0, '2021-01-15'),\n",
       " Text(23, 0, '2021-01-22'),\n",
       " Text(24, 0, '2021-01-29'),\n",
       " Text(25, 0, '2021-02-05'),\n",
       " Text(26, 0, '2021-02-12'),\n",
       " Text(27, 0, '2021-02-19'),\n",
       " Text(28, 0, '2021-02-26'),\n",
       " Text(29, 0, '2021-03-05'),\n",
       " Text(30, 0, '2021-03-12'),\n",
       " Text(31, 0, '2021-03-19'),\n",
       " Text(32, 0, '2021-03-26'),\n",
       " Text(33, 0, '2021-04-02'),\n",
       " Text(34, 0, '2021-04-09'),\n",
       " Text(35, 0, '2021-04-16'),\n",
       " Text(36, 0, '2021-04-23'),\n",
       " Text(37, 0, '2021-04-30'),\n",
       " Text(38, 0, '2021-05-07'),\n",
       " Text(39, 0, '2021-05-14'),\n",
       " Text(40, 0, '2021-05-21'),\n",
       " Text(41, 0, '2021-05-28'),\n",
       " Text(42, 0, '2021-06-04'),\n",
       " Text(43, 0, '2021-06-11'),\n",
       " Text(44, 0, '2021-06-18'),\n",
       " Text(45, 0, '2021-06-25')]"
      ]
     },
     "execution_count": 8,
     "metadata": {},
     "output_type": "execute_result"
    },
    {
     "data": {
      "text/plain": [
       "Text(0.5, 0, '주')"
      ]
     },
     "execution_count": 8,
     "metadata": {},
     "output_type": "execute_result"
    },
    {
     "data": {
      "text/plain": [
       "Text(0, 0.5, '매출액 (원)')"
      ]
     },
     "execution_count": 8,
     "metadata": {},
     "output_type": "execute_result"
    },
    {
     "data": {
      "text/plain": [
       "Text(0, 0.5, '접종량')"
      ]
     },
     "execution_count": 8,
     "metadata": {},
     "output_type": "execute_result"
    },
    {
     "data": {
      "text/plain": [
       "<matplotlib.legend.Legend at 0x26c3d896f40>"
      ]
     },
     "execution_count": 8,
     "metadata": {},
     "output_type": "execute_result"
    },
    {
     "data": {
      "image/png": "[encoded data removed]",
      "text/plain": [
       "<Figure size 1080x720 with 2 Axes>"
      ]
     },
     "metadata": {
      "needs_background": "light"
     },
     "output_type": "display_data"
    }
   ],
   "source": [
    "## 1차 2차 백신 누적 접종 현황과 영화관 매출액\n",
    "\n",
    "x =  seoul_vc['주']\n",
    "y =  seoul_vc['매출액']\n",
    "y1 = seoul_vc['1차접종누계']\n",
    "y2 = seoul_vc['2차접종누계']\n",
    "\n",
    "\n",
    "fig, ax1 = plt.subplots() # initializes figure and plots\n",
    "\n",
    "ax = plt.gca()\n",
    "ax.get_yaxis().get_major_formatter().set_scientific(False)\n",
    "\n",
    "ax2 = ax1.twinx()\n",
    "plt.gcf().set_size_inches(15, 10)\n",
    "\n",
    "fig1 = sns.barplot(x = x, y = y, ax = ax1, palette = 'Greens') # plots the first set of data, and sets it to ax1. #\n",
    "fig2 = sns.lineplot(x = x, y = y1, color = 'red', ax = ax2) # plots the second set, and sets to ax2. \n",
    "fig3 = sns.lineplot(x = x, y = y2, color = 'blue', ax = ax2)\n",
    "\n",
    "#plt.axhline(avg_movie['매출액'][0],0.05, 0.95, color = 'red', linestyle = '--' )\n",
    "\n",
    "fig1.set_xticklabels(fig1.get_xticklabels(), rotation=-55, fontsize='small')\n",
    "\n",
    "\n",
    "## 라벨 이름 설정\n",
    "fig1.set_xlabel(\"주\", fontsize = 15)\n",
    "fig1.set_ylabel(\"매출액 (원)\", fontsize = 15)\n",
    "fig2.set_ylabel(\"접종량\", fontsize = 15)\n",
    "\n",
    "ax = plt.gca()\n",
    "ax.get_yaxis().get_major_formatter().set_scientific(False)\n",
    "\n",
    "plt.legend(labels=[\"1차접종\",\"2차접종\"])\n",
    "\n",
    "plt.show()"
   ]
  },
  {
   "cell_type": "code",
   "execution_count": 9,
   "metadata": {},
   "outputs": [
    {
     "name": "stderr",
     "output_type": "stream",
     "text": [
      "<ipython-input-9-ff1cf81ee752>:11: UserWarning: FixedFormatter should only be used together with FixedLocator\n",
      "  fig2.set_xticklabels(fig1.get_xticklabels(), rotation=-55, fontsize='small')\n"
     ]
    },
    {
     "data": {
      "text/plain": [
       "[Text(0, 0, '2020-08-16'),\n",
       " Text(1, 0, '2020-08-23'),\n",
       " Text(2, 0, '2020-08-30'),\n",
       " Text(3, 0, '2020-09-06'),\n",
       " Text(4, 0, '2020-09-13'),\n",
       " Text(5, 0, '2020-09-20'),\n",
       " Text(6, 0, '2020-09-27'),\n",
       " Text(7, 0, '2020-10-04'),\n",
       " Text(8, 0, '2020-10-11'),\n",
       " Text(9, 0, '2020-10-18'),\n",
       " Text(10, 0, '2020-10-25'),\n",
       " Text(11, 0, '2020-11-01'),\n",
       " Text(12, 0, '2020-11-08'),\n",
       " Text(13, 0, '2020-11-15'),\n",
       " Text(14, 0, '2020-11-22'),\n",
       " Text(15, 0, '2020-11-29'),\n",
       " Text(16, 0, '2020-12-06'),\n",
       " Text(17, 0, '2020-12-13'),\n",
       " Text(18, 0, '2020-12-20'),\n",
       " Text(19, 0, '2020-12-27'),\n",
       " Text(20, 0, '2021-01-01'),\n",
       " Text(21, 0, '2021-01-08'),\n",
       " Text(22, 0, '2021-01-15'),\n",
       " Text(23, 0, '2021-01-22'),\n",
       " Text(24, 0, '2021-01-29'),\n",
       " Text(25, 0, '2021-02-05'),\n",
       " Text(26, 0, '2021-02-12'),\n",
       " Text(27, 0, '2021-02-19'),\n",
       " Text(28, 0, '2021-02-26'),\n",
       " Text(29, 0, '2021-03-05'),\n",
       " Text(30, 0, '2021-03-12'),\n",
       " Text(31, 0, '2021-03-19'),\n",
       " Text(32, 0, '2021-03-26'),\n",
       " Text(33, 0, '2021-04-02'),\n",
       " Text(34, 0, '2021-04-09'),\n",
       " Text(35, 0, '2021-04-16'),\n",
       " Text(36, 0, '2021-04-23'),\n",
       " Text(37, 0, '2021-04-30'),\n",
       " Text(38, 0, '2021-05-07'),\n",
       " Text(39, 0, '2021-05-14'),\n",
       " Text(40, 0, '2021-05-21'),\n",
       " Text(41, 0, '2021-05-28'),\n",
       " Text(42, 0, '2021-06-04'),\n",
       " Text(43, 0, '2021-06-11'),\n",
       " Text(44, 0, '2021-06-18'),\n",
       " Text(45, 0, '2021-06-25')]"
      ]
     },
     "execution_count": 9,
     "metadata": {},
     "output_type": "execute_result"
    },
    {
     "data": {
      "text/plain": [
       "Text(0.5, 0, '주')"
      ]
     },
     "execution_count": 9,
     "metadata": {},
     "output_type": "execute_result"
    },
    {
     "data": {
      "text/plain": [
       "Text(0, 0.5, '접종량')"
      ]
     },
     "execution_count": 9,
     "metadata": {},
     "output_type": "execute_result"
    },
    {
     "data": {
      "text/plain": [
       "<matplotlib.legend.Legend at 0x26c3d947520>"
      ]
     },
     "execution_count": 9,
     "metadata": {},
     "output_type": "execute_result"
    },
    {
     "data": {
      "image/png": "[encoded data removed]",
      "text/plain": [
       "<Figure size 432x288 with 1 Axes>"
      ]
     },
     "metadata": {
      "needs_background": "light"
     },
     "output_type": "display_data"
    }
   ],
   "source": [
    "x =  seoul_vc['주']\n",
    "y =  seoul_vc['매출액']\n",
    "y1 = seoul_vc['1차접종누계']\n",
    "y2 = seoul_vc['2차접종누계']\n",
    "\n",
    "fig2 = sns.lineplot(x = x, y = y1, color = 'red') # plots the second set, and sets to ax2. \n",
    "fig3 = sns.lineplot(x = x, y = y2, color = 'blue')\n",
    "\n",
    "ax = plt.gca()\n",
    "\n",
    "fig2.set_xticklabels(fig1.get_xticklabels(), rotation=-55, fontsize='small')\n",
    "ax.get_yaxis().get_major_formatter().set_scientific(False)\n",
    "\n",
    "## 라벨 이름 설정\n",
    "fig2.set_xlabel(\"주\", fontsize = 15)\n",
    "fig2.set_ylabel(\"접종량\", fontsize = 15)\n",
    "\n",
    "plt.legend(labels=[\"1차접종\",\"2차접종\"])\n",
    "\n",
    "plt.show()"
   ]
  },
  {
   "cell_type": "code",
   "execution_count": null,
   "metadata": {},
   "outputs": [],
   "source": []
  },
  {
   "cell_type": "code",
   "execution_count": null,
   "metadata": {},
   "outputs": [],
   "source": []
  },
  {
   "cell_type": "markdown",
   "metadata": {},
   "source": [
    "## 부산 데이터 시각화 - 1차 2차 백신 누적 접종 현황과 영화관 매출액"
   ]
  },
  {
   "cell_type": "code",
   "execution_count": 10,
   "metadata": {},
   "outputs": [
    {
     "name": "stderr",
     "output_type": "stream",
     "text": [
      "<ipython-input-10-4ae24e6587bd>:23: UserWarning: FixedFormatter should only be used together with FixedLocator\n",
      "  fig1.set_xticklabels(fig1.get_xticklabels(), rotation=-55, fontsize='small')\n"
     ]
    },
    {
     "data": {
      "text/plain": [
       "[Text(0, 0, '2020-08-16'),\n",
       " Text(1, 0, '2020-08-23'),\n",
       " Text(2, 0, '2020-08-30'),\n",
       " Text(3, 0, '2020-09-06'),\n",
       " Text(4, 0, '2020-09-13'),\n",
       " Text(5, 0, '2020-09-20'),\n",
       " Text(6, 0, '2020-09-27'),\n",
       " Text(7, 0, '2020-10-04'),\n",
       " Text(8, 0, '2020-10-11'),\n",
       " Text(9, 0, '2020-10-18'),\n",
       " Text(10, 0, '2020-10-25'),\n",
       " Text(11, 0, '2020-11-01'),\n",
       " Text(12, 0, '2020-11-08'),\n",
       " Text(13, 0, '2020-11-15'),\n",
       " Text(14, 0, '2020-11-22'),\n",
       " Text(15, 0, '2020-11-29'),\n",
       " Text(16, 0, '2020-12-06'),\n",
       " Text(17, 0, '2020-12-13'),\n",
       " Text(18, 0, '2020-12-20'),\n",
       " Text(19, 0, '2020-12-27'),\n",
       " Text(20, 0, '2021-01-01'),\n",
       " Text(21, 0, '2021-01-08'),\n",
       " Text(22, 0, '2021-01-15'),\n",
       " Text(23, 0, '2021-01-22'),\n",
       " Text(24, 0, '2021-01-29'),\n",
       " Text(25, 0, '2021-02-05'),\n",
       " Text(26, 0, '2021-02-12'),\n",
       " Text(27, 0, '2021-02-19'),\n",
       " Text(28, 0, '2021-02-26'),\n",
       " Text(29, 0, '2021-03-05'),\n",
       " Text(30, 0, '2021-03-12'),\n",
       " Text(31, 0, '2021-03-19'),\n",
       " Text(32, 0, '2021-03-26'),\n",
       " Text(33, 0, '2021-04-02'),\n",
       " Text(34, 0, '2021-04-09'),\n",
       " Text(35, 0, '2021-04-16'),\n",
       " Text(36, 0, '2021-04-23'),\n",
       " Text(37, 0, '2021-04-30'),\n",
       " Text(38, 0, '2021-05-07'),\n",
       " Text(39, 0, '2021-05-14'),\n",
       " Text(40, 0, '2021-05-21'),\n",
       " Text(41, 0, '2021-05-28'),\n",
       " Text(42, 0, '2021-06-04'),\n",
       " Text(43, 0, '2021-06-11'),\n",
       " Text(44, 0, '2021-06-18'),\n",
       " Text(45, 0, '2021-06-25')]"
      ]
     },
     "execution_count": 10,
     "metadata": {},
     "output_type": "execute_result"
    },
    {
     "data": {
      "text/plain": [
       "Text(0.5, 0, '주')"
      ]
     },
     "execution_count": 10,
     "metadata": {},
     "output_type": "execute_result"
    },
    {
     "data": {
      "text/plain": [
       "Text(0, 0.5, '판매량 (원)')"
      ]
     },
     "execution_count": 10,
     "metadata": {},
     "output_type": "execute_result"
    },
    {
     "data": {
      "text/plain": [
       "Text(0, 0.5, '접종량')"
      ]
     },
     "execution_count": 10,
     "metadata": {},
     "output_type": "execute_result"
    },
    {
     "data": {
      "text/plain": [
       "<matplotlib.legend.Legend at 0x26c3d9da6a0>"
      ]
     },
     "execution_count": 10,
     "metadata": {},
     "output_type": "execute_result"
    },
    {
     "data": {
      "image/png": "[encoded data removed]",
      "text/plain": [
       "<Figure size 1080x720 with 2 Axes>"
      ]
     },
     "metadata": {
      "needs_background": "light"
     },
     "output_type": "display_data"
    }
   ],
   "source": [
    "## 1차 2차 백신 누적 접종 현황과 영화관 매출액\n",
    "\n",
    "x =  busan_vc['주']\n",
    "y =  busan_vc['매출액']\n",
    "y1 = busan_vc['1차접종누계']\n",
    "y2 = busan_vc['2차접종누계']\n",
    "\n",
    "\n",
    "fig, ax1 = plt.subplots() # initializes figure and plots\n",
    "\n",
    "ax = plt.gca()\n",
    "ax.get_yaxis().get_major_formatter().set_scientific(False)\n",
    "\n",
    "ax2 = ax1.twinx()\n",
    "plt.gcf().set_size_inches(15, 10)\n",
    "\n",
    "fig1 = sns.barplot(x = x, y = y, ax = ax1, palette = 'Greens') # plots the first set of data, and sets it to ax1. #\n",
    "fig2 = sns.lineplot(x = x, y = y1, color = 'red', ax = ax2) # plots the second set, and sets to ax2. \n",
    "fig3 = sns.lineplot(x = x, y = y2, color = 'blue', ax = ax2)\n",
    "\n",
    "#plt.axhline(avg_movie['매출액'][0],0.05, 0.95, color = 'red', linestyle = '--' )\n",
    "\n",
    "fig1.set_xticklabels(fig1.get_xticklabels(), rotation=-55, fontsize='small')\n",
    "\n",
    "\n",
    "## 라벨 이름 설정\n",
    "fig1.set_xlabel(\"주\", fontsize = 15)\n",
    "fig1.set_ylabel(\"판매량 (원)\", fontsize = 15)\n",
    "fig2.set_ylabel(\"접종량\", fontsize = 15)\n",
    "\n",
    "ax = plt.gca()\n",
    "ax.get_yaxis().get_major_formatter().set_scientific(False)\n",
    "\n",
    "plt.legend(labels=[\"1차접종\",\"2차접종\"])\n",
    "\n",
    "plt.show()"
   ]
  },
  {
   "cell_type": "code",
   "execution_count": 11,
   "metadata": {},
   "outputs": [
    {
     "name": "stderr",
     "output_type": "stream",
     "text": [
      "<ipython-input-11-73d20f3bd1d4>:11: UserWarning: FixedFormatter should only be used together with FixedLocator\n",
      "  fig2.set_xticklabels(fig1.get_xticklabels(), rotation=-55, fontsize='small')\n"
     ]
    },
    {
     "data": {
      "text/plain": [
       "[Text(0, 0, '2020-08-16'),\n",
       " Text(1, 0, '2020-08-23'),\n",
       " Text(2, 0, '2020-08-30'),\n",
       " Text(3, 0, '2020-09-06'),\n",
       " Text(4, 0, '2020-09-13'),\n",
       " Text(5, 0, '2020-09-20'),\n",
       " Text(6, 0, '2020-09-27'),\n",
       " Text(7, 0, '2020-10-04'),\n",
       " Text(8, 0, '2020-10-11'),\n",
       " Text(9, 0, '2020-10-18'),\n",
       " Text(10, 0, '2020-10-25'),\n",
       " Text(11, 0, '2020-11-01'),\n",
       " Text(12, 0, '2020-11-08'),\n",
       " Text(13, 0, '2020-11-15'),\n",
       " Text(14, 0, '2020-11-22'),\n",
       " Text(15, 0, '2020-11-29'),\n",
       " Text(16, 0, '2020-12-06'),\n",
       " Text(17, 0, '2020-12-13'),\n",
       " Text(18, 0, '2020-12-20'),\n",
       " Text(19, 0, '2020-12-27'),\n",
       " Text(20, 0, '2021-01-01'),\n",
       " Text(21, 0, '2021-01-08'),\n",
       " Text(22, 0, '2021-01-15'),\n",
       " Text(23, 0, '2021-01-22'),\n",
       " Text(24, 0, '2021-01-29'),\n",
       " Text(25, 0, '2021-02-05'),\n",
       " Text(26, 0, '2021-02-12'),\n",
       " Text(27, 0, '2021-02-19'),\n",
       " Text(28, 0, '2021-02-26'),\n",
       " Text(29, 0, '2021-03-05'),\n",
       " Text(30, 0, '2021-03-12'),\n",
       " Text(31, 0, '2021-03-19'),\n",
       " Text(32, 0, '2021-03-26'),\n",
       " Text(33, 0, '2021-04-02'),\n",
       " Text(34, 0, '2021-04-09'),\n",
       " Text(35, 0, '2021-04-16'),\n",
       " Text(36, 0, '2021-04-23'),\n",
       " Text(37, 0, '2021-04-30'),\n",
       " Text(38, 0, '2021-05-07'),\n",
       " Text(39, 0, '2021-05-14'),\n",
       " Text(40, 0, '2021-05-21'),\n",
       " Text(41, 0, '2021-05-28'),\n",
       " Text(42, 0, '2021-06-04'),\n",
       " Text(43, 0, '2021-06-11'),\n",
       " Text(44, 0, '2021-06-18'),\n",
       " Text(45, 0, '2021-06-25')]"
      ]
     },
     "execution_count": 11,
     "metadata": {},
     "output_type": "execute_result"
    },
    {
     "data": {
      "text/plain": [
       "Text(0.5, 0, '주')"
      ]
     },
     "execution_count": 11,
     "metadata": {},
     "output_type": "execute_result"
    },
    {
     "data": {
      "text/plain": [
       "Text(0, 0.5, '접종량')"
      ]
     },
     "execution_count": 11,
     "metadata": {},
     "output_type": "execute_result"
    },
    {
     "data": {
      "text/plain": [
       "<matplotlib.legend.Legend at 0x26c3d959700>"
      ]
     },
     "execution_count": 11,
     "metadata": {},
     "output_type": "execute_result"
    },
    {
     "data": {
      "image/png": "[encoded data removed]",
      "text/plain": [
       "<Figure size 432x288 with 1 Axes>"
      ]
     },
     "metadata": {
      "needs_background": "light"
     },
     "output_type": "display_data"
    }
   ],
   "source": [
    "x =  busan_vc['주']\n",
    "y =  busan_vc['매출액']\n",
    "y1 = busan_vc['1차접종누계']\n",
    "y2 = busan_vc['2차접종누계']\n",
    "\n",
    "fig2 = sns.lineplot(x = x, y = y1, color = 'red') # plots the second set, and sets to ax2. \n",
    "fig3 = sns.lineplot(x = x, y = y2, color = 'blue')\n",
    "\n",
    "ax = plt.gca()\n",
    "\n",
    "fig2.set_xticklabels(fig1.get_xticklabels(), rotation=-55, fontsize='small')\n",
    "ax.get_yaxis().get_major_formatter().set_scientific(False)\n",
    "\n",
    "## 라벨 이름 설정\n",
    "fig2.set_xlabel(\"주\", fontsize = 15)\n",
    "fig2.set_ylabel(\"접종량\", fontsize = 15)\n",
    "\n",
    "\n",
    "plt.legend(labels=[\"1차접종\",\"2차접종\"])\n",
    "\n",
    "plt.show()"
   ]
  },
  {
   "cell_type": "code",
   "execution_count": 12,
   "metadata": {},
   "outputs": [],
   "source": [
    "x =  busan_vc['주']\n",
    "y =  busan_vc['매출액']\n",
    "y1 = busan_vc['1차접종누계']\n",
    "y2 = busan_vc['2차접종누계']\n"
   ]
  },
  {
   "cell_type": "markdown",
   "metadata": {},
   "source": [
    "## 서울 vs 부산"
   ]
  },
  {
   "cell_type": "code",
   "execution_count": 13,
   "metadata": {},
   "outputs": [
    {
     "name": "stderr",
     "output_type": "stream",
     "text": [
      "<ipython-input-13-d45ffdd06ba7>:19: UserWarning: FixedFormatter should only be used together with FixedLocator\n",
      "  fig1.set_xticklabels(fig1.get_xticklabels(), rotation=-55, fontsize='small')\n"
     ]
    },
    {
     "data": {
      "text/plain": [
       "[Text(0, 0, ''),\n",
       " Text(1, 0, ''),\n",
       " Text(2, 0, ''),\n",
       " Text(3, 0, ''),\n",
       " Text(4, 0, ''),\n",
       " Text(5, 0, ''),\n",
       " Text(6, 0, ''),\n",
       " Text(7, 0, ''),\n",
       " Text(8, 0, ''),\n",
       " Text(9, 0, ''),\n",
       " Text(10, 0, ''),\n",
       " Text(11, 0, ''),\n",
       " Text(12, 0, ''),\n",
       " Text(13, 0, ''),\n",
       " Text(14, 0, ''),\n",
       " Text(15, 0, ''),\n",
       " Text(16, 0, ''),\n",
       " Text(17, 0, ''),\n",
       " Text(18, 0, ''),\n",
       " Text(19, 0, ''),\n",
       " Text(20, 0, ''),\n",
       " Text(21, 0, ''),\n",
       " Text(22, 0, ''),\n",
       " Text(23, 0, ''),\n",
       " Text(24, 0, ''),\n",
       " Text(25, 0, ''),\n",
       " Text(26, 0, ''),\n",
       " Text(27, 0, ''),\n",
       " Text(28, 0, ''),\n",
       " Text(29, 0, ''),\n",
       " Text(30, 0, ''),\n",
       " Text(31, 0, ''),\n",
       " Text(32, 0, ''),\n",
       " Text(33, 0, ''),\n",
       " Text(34, 0, ''),\n",
       " Text(35, 0, ''),\n",
       " Text(36, 0, ''),\n",
       " Text(37, 0, ''),\n",
       " Text(38, 0, ''),\n",
       " Text(39, 0, ''),\n",
       " Text(40, 0, ''),\n",
       " Text(41, 0, ''),\n",
       " Text(42, 0, ''),\n",
       " Text(43, 0, ''),\n",
       " Text(44, 0, ''),\n",
       " Text(45, 0, '')]"
      ]
     },
     "execution_count": 13,
     "metadata": {},
     "output_type": "execute_result"
    },
    {
     "data": {
      "text/plain": [
       "Text(0.5, 0, '주')"
      ]
     },
     "execution_count": 13,
     "metadata": {},
     "output_type": "execute_result"
    },
    {
     "data": {
      "text/plain": [
       "Text(0, 0.5, '접종량')"
      ]
     },
     "execution_count": 13,
     "metadata": {},
     "output_type": "execute_result"
    },
    {
     "data": {
      "image/png": "[encoded data removed]",
      "text/plain": [
       "<Figure size 432x288 with 1 Axes>"
      ]
     },
     "metadata": {
      "needs_background": "light"
     },
     "output_type": "display_data"
    }
   ],
   "source": [
    "x_s =  seoul_vc['주']\n",
    "y_s =  seoul_vc['매출액']\n",
    "y1_s = seoul_vc['1차접종누계']\n",
    "y2_s = seoul_vc['2차접종누계']\n",
    "\n",
    "\n",
    "x_b =  busan_vc['주']\n",
    "y_b =  busan_vc['매출액']\n",
    "y1_b = busan_vc['1차접종누계']\n",
    "y2_b = busan_vc['2차접종누계']\n",
    "\n",
    "\n",
    "\n",
    "fig1 = sns.lineplot(x = x_s, y = y1_s, color = 'red') # plots the second set, and sets to ax2. \n",
    "fig2 = sns.lineplot(x = x, y = y1_b, color = 'blue')\n",
    "\n",
    "ax = plt.gca()\n",
    "\n",
    "fig1.set_xticklabels(fig1.get_xticklabels(), rotation=-55, fontsize='small')\n",
    "ax.get_yaxis().get_major_formatter().set_scientific(False)\n",
    "\n",
    "## 라벨 이름 설정\n",
    "fig1.set_xlabel(\"주\", fontsize = 15)\n",
    "fig1.set_ylabel(\"접종량\", fontsize = 15)\n",
    "\n",
    "plt.show()"
   ]
  },
  {
   "cell_type": "markdown",
   "metadata": {},
   "source": [
    "##  서울 최종 그래프"
   ]
  },
  {
   "cell_type": "markdown",
   "metadata": {},
   "source": [
    "## 서울 매출액"
   ]
  },
  {
   "cell_type": "code",
   "execution_count": 14,
   "metadata": {},
   "outputs": [
    {
     "name": "stderr",
     "output_type": "stream",
     "text": [
      "<ipython-input-14-b98b3dcffd82>:24: UserWarning: FixedFormatter should only be used together with FixedLocator\n",
      "  fig1.set_xticklabels(fig1.get_xticklabels(), rotation= 55, fontsize='small')\n"
     ]
    },
    {
     "data": {
      "text/plain": [
       "[Text(0, 0, '2020-08-16'),\n",
       " Text(1, 0, '2020-08-23'),\n",
       " Text(2, 0, '2020-08-30'),\n",
       " Text(3, 0, '2020-09-06'),\n",
       " Text(4, 0, '2020-09-13'),\n",
       " Text(5, 0, '2020-09-20'),\n",
       " Text(6, 0, '2020-09-27'),\n",
       " Text(7, 0, '2020-10-04'),\n",
       " Text(8, 0, '2020-10-11'),\n",
       " Text(9, 0, '2020-10-18'),\n",
       " Text(10, 0, '2020-10-25'),\n",
       " Text(11, 0, '2020-11-01'),\n",
       " Text(12, 0, '2020-11-08'),\n",
       " Text(13, 0, '2020-11-15'),\n",
       " Text(14, 0, '2020-11-22'),\n",
       " Text(15, 0, '2020-11-29'),\n",
       " Text(16, 0, '2020-12-06'),\n",
       " Text(17, 0, '2020-12-13'),\n",
       " Text(18, 0, '2020-12-20'),\n",
       " Text(19, 0, '2020-12-27'),\n",
       " Text(20, 0, '2021-01-01'),\n",
       " Text(21, 0, '2021-01-08'),\n",
       " Text(22, 0, '2021-01-15'),\n",
       " Text(23, 0, '2021-01-22'),\n",
       " Text(24, 0, '2021-01-29'),\n",
       " Text(25, 0, '2021-02-05'),\n",
       " Text(26, 0, '2021-02-12'),\n",
       " Text(27, 0, '2021-02-19'),\n",
       " Text(28, 0, '2021-02-26'),\n",
       " Text(29, 0, '2021-03-05'),\n",
       " Text(30, 0, '2021-03-12'),\n",
       " Text(31, 0, '2021-03-19'),\n",
       " Text(32, 0, '2021-03-26'),\n",
       " Text(33, 0, '2021-04-02'),\n",
       " Text(34, 0, '2021-04-09'),\n",
       " Text(35, 0, '2021-04-16'),\n",
       " Text(36, 0, '2021-04-23'),\n",
       " Text(37, 0, '2021-04-30'),\n",
       " Text(38, 0, '2021-05-07'),\n",
       " Text(39, 0, '2021-05-14'),\n",
       " Text(40, 0, '2021-05-21'),\n",
       " Text(41, 0, '2021-05-28'),\n",
       " Text(42, 0, '2021-06-04'),\n",
       " Text(43, 0, '2021-06-11'),\n",
       " Text(44, 0, '2021-06-18'),\n",
       " Text(45, 0, '2021-06-25')]"
      ]
     },
     "execution_count": 14,
     "metadata": {},
     "output_type": "execute_result"
    },
    {
     "data": {
      "text/plain": [
       "Text(0.5, 0, '주')"
      ]
     },
     "execution_count": 14,
     "metadata": {},
     "output_type": "execute_result"
    },
    {
     "data": {
      "text/plain": [
       "Text(0, 0.5, '매출액 (원)')"
      ]
     },
     "execution_count": 14,
     "metadata": {},
     "output_type": "execute_result"
    },
    {
     "data": {
      "text/plain": [
       "Text(0, 0.5, '접종자 수')"
      ]
     },
     "execution_count": 14,
     "metadata": {},
     "output_type": "execute_result"
    },
    {
     "data": {
      "text/plain": [
       "<matplotlib.legend.Legend at 0x26c3e410970>"
      ]
     },
     "execution_count": 14,
     "metadata": {},
     "output_type": "execute_result"
    },
    {
     "data": {
      "image/png": "[encoded data removed]",
      "text/plain": [
       "<Figure size 1080x720 with 2 Axes>"
      ]
     },
     "metadata": {
      "needs_background": "light"
     },
     "output_type": "display_data"
    }
   ],
   "source": [
    "## 1차 2차 백신 누적 접종 현황과 관객수\n",
    "\n",
    "x =  seoul_vc['주']\n",
    "y =  seoul_vc['매출액']\n",
    "y1 = seoul_vc['1차접종누계']\n",
    "y2 = seoul_vc['2차접종누계']\n",
    "\n",
    "\n",
    "fig, ax1 = plt.subplots() # initializes figure and plots\n",
    "\n",
    "ax = plt.gca()\n",
    "ax.get_yaxis().get_major_formatter().set_scientific(False)\n",
    "\n",
    "\n",
    "\n",
    "ax2 = ax1.twinx()\n",
    "plt.gcf().set_size_inches(15, 10)\n",
    "\n",
    "fig1 = sns.barplot(x = x, y = y, ax = ax1, color = 'lightcoral') # plots the first set of data, and sets it to ax1. #\n",
    "fig2 = sns.lineplot(x = x, y = y1, color = 'deepskyblue', ax = ax2, lw=5) # plots the second set, and sets to ax2. \n",
    "fig3 = sns.lineplot(x = x, y = y2, color = 'blue', ax = ax2, lw=5)\n",
    "\n",
    "\n",
    "fig1.set_xticklabels(fig1.get_xticklabels(), rotation= 55, fontsize='small')\n",
    "\n",
    "\n",
    "## 라벨 이름 설정\n",
    "fig1.set_xlabel(\"주\", fontsize = 15)\n",
    "fig1.set_ylabel(\"매출액 (원)\", fontsize = 15)\n",
    "fig2.set_ylabel(\"접종자 수\", fontsize = 15)\n",
    "\n",
    "ax = plt.gca()\n",
    "ax.get_yaxis().get_major_formatter().set_scientific(False)\n",
    "\n",
    "\n",
    "\n",
    "plt.legend(labels=[\"1차접종\",\"2차접종\"])\n",
    "\n",
    "plt.show()"
   ]
  },
  {
   "cell_type": "markdown",
   "metadata": {},
   "source": [
    "## 서울 관객수"
   ]
  },
  {
   "cell_type": "code",
   "execution_count": 15,
   "metadata": {},
   "outputs": [
    {
     "name": "stderr",
     "output_type": "stream",
     "text": [
      "<ipython-input-15-5338a379afdf>:25: UserWarning: FixedFormatter should only be used together with FixedLocator\n",
      "  fig1.set_xticklabels(fig1.get_xticklabels(), rotation= 55, fontsize='small')\n"
     ]
    },
    {
     "data": {
      "text/plain": [
       "[Text(0, 0, '2020-08-16'),\n",
       " Text(1, 0, '2020-08-23'),\n",
       " Text(2, 0, '2020-08-30'),\n",
       " Text(3, 0, '2020-09-06'),\n",
       " Text(4, 0, '2020-09-13'),\n",
       " Text(5, 0, '2020-09-20'),\n",
       " Text(6, 0, '2020-09-27'),\n",
       " Text(7, 0, '2020-10-04'),\n",
       " Text(8, 0, '2020-10-11'),\n",
       " Text(9, 0, '2020-10-18'),\n",
       " Text(10, 0, '2020-10-25'),\n",
       " Text(11, 0, '2020-11-01'),\n",
       " Text(12, 0, '2020-11-08'),\n",
       " Text(13, 0, '2020-11-15'),\n",
       " Text(14, 0, '2020-11-22'),\n",
       " Text(15, 0, '2020-11-29'),\n",
       " Text(16, 0, '2020-12-06'),\n",
       " Text(17, 0, '2020-12-13'),\n",
       " Text(18, 0, '2020-12-20'),\n",
       " Text(19, 0, '2020-12-27'),\n",
       " Text(20, 0, '2021-01-01'),\n",
       " Text(21, 0, '2021-01-08'),\n",
       " Text(22, 0, '2021-01-15'),\n",
       " Text(23, 0, '2021-01-22'),\n",
       " Text(24, 0, '2021-01-29'),\n",
       " Text(25, 0, '2021-02-05'),\n",
       " Text(26, 0, '2021-02-12'),\n",
       " Text(27, 0, '2021-02-19'),\n",
       " Text(28, 0, '2021-02-26'),\n",
       " Text(29, 0, '2021-03-05'),\n",
       " Text(30, 0, '2021-03-12'),\n",
       " Text(31, 0, '2021-03-19'),\n",
       " Text(32, 0, '2021-03-26'),\n",
       " Text(33, 0, '2021-04-02'),\n",
       " Text(34, 0, '2021-04-09'),\n",
       " Text(35, 0, '2021-04-16'),\n",
       " Text(36, 0, '2021-04-23'),\n",
       " Text(37, 0, '2021-04-30'),\n",
       " Text(38, 0, '2021-05-07'),\n",
       " Text(39, 0, '2021-05-14'),\n",
       " Text(40, 0, '2021-05-21'),\n",
       " Text(41, 0, '2021-05-28'),\n",
       " Text(42, 0, '2021-06-04'),\n",
       " Text(43, 0, '2021-06-11'),\n",
       " Text(44, 0, '2021-06-18'),\n",
       " Text(45, 0, '2021-06-25')]"
      ]
     },
     "execution_count": 15,
     "metadata": {},
     "output_type": "execute_result"
    },
    {
     "data": {
      "text/plain": [
       "Text(0.5, 0, '주')"
      ]
     },
     "execution_count": 15,
     "metadata": {},
     "output_type": "execute_result"
    },
    {
     "data": {
      "text/plain": [
       "Text(0, 0.5, '관객수 (명)')"
      ]
     },
     "execution_count": 15,
     "metadata": {},
     "output_type": "execute_result"
    },
    {
     "data": {
      "text/plain": [
       "Text(0, 0.5, '접종자 수')"
      ]
     },
     "execution_count": 15,
     "metadata": {},
     "output_type": "execute_result"
    },
    {
     "data": {
      "text/plain": [
       "<matplotlib.legend.Legend at 0x26c3e637f70>"
      ]
     },
     "execution_count": 15,
     "metadata": {},
     "output_type": "execute_result"
    },
    {
     "data": {
      "image/png": "[encoded data removed]",
      "text/plain": [
       "<Figure size 1080x720 with 2 Axes>"
      ]
     },
     "metadata": {
      "needs_background": "light"
     },
     "output_type": "display_data"
    }
   ],
   "source": [
    "## 1차 2차 백신 누적 접종 현황과 관객수\n",
    "\n",
    "x =  seoul_vc['주']\n",
    "y =  seoul_vc['관객수']\n",
    "y1 = seoul_vc['1차접종누계']\n",
    "y2 = seoul_vc['2차접종누계']\n",
    "\n",
    "\n",
    "fig, ax1 = plt.subplots() # initializes figure and plots\n",
    "\n",
    "ax = plt.gca()\n",
    "ax.get_yaxis().get_major_formatter().set_scientific(False)\n",
    "\n",
    "\n",
    "\n",
    "ax2 = ax1.twinx()\n",
    "plt.gcf().set_size_inches(15, 10)\n",
    "\n",
    "fig1 = sns.barplot(x = x, y = y, ax = ax1, color = 'firebrick') # plots the first set of data, and sets it to ax1. #\n",
    "fig2 = sns.lineplot(x = x, y = y1, color = 'deepskyblue', ax = ax2, lw=5) # plots the second set, and sets to ax2. \n",
    "fig3 = sns.lineplot(x = x, y = y2, color = 'blue', ax = ax2, lw=5)\n",
    "\n",
    "#plt.axhline(avg_movie['매출액'][0],0.05, 0.95, color = 'red', linestyle = '--' )\n",
    "\n",
    "fig1.set_xticklabels(fig1.get_xticklabels(), rotation= 55, fontsize='small')\n",
    "\n",
    "\n",
    "## 라벨 이름 설정\n",
    "fig1.set_xlabel(\"주\", fontsize = 15)\n",
    "fig1.set_ylabel(\"관객수 (명)\", fontsize = 15)\n",
    "fig2.set_ylabel(\"접종자 수\", fontsize = 15)\n",
    "\n",
    "ax = plt.gca()\n",
    "ax.get_yaxis().get_major_formatter().set_scientific(False)\n",
    "\n",
    "\n",
    "\n",
    "plt.legend(labels=[\"1차접종\",\"2차접종\"])\n",
    "\n",
    "plt.show()"
   ]
  },
  {
   "cell_type": "markdown",
   "metadata": {},
   "source": [
    "## 서울 상대 매출액"
   ]
  },
  {
   "cell_type": "code",
   "execution_count": 16,
   "metadata": {},
   "outputs": [
    {
     "data": {
      "text/plain": [
       "[Text(0, 0, '2020-08-16'),\n",
       " Text(1, 0, '2020-08-23'),\n",
       " Text(2, 0, '2020-08-30'),\n",
       " Text(3, 0, '2020-09-06'),\n",
       " Text(4, 0, '2020-09-13'),\n",
       " Text(5, 0, '2020-09-20'),\n",
       " Text(6, 0, '2020-09-27'),\n",
       " Text(7, 0, '2020-10-04'),\n",
       " Text(8, 0, '2020-10-11'),\n",
       " Text(9, 0, '2020-10-18'),\n",
       " Text(10, 0, '2020-10-25'),\n",
       " Text(11, 0, '2020-11-01'),\n",
       " Text(12, 0, '2020-11-08'),\n",
       " Text(13, 0, '2020-11-15'),\n",
       " Text(14, 0, '2020-11-22'),\n",
       " Text(15, 0, '2020-11-29'),\n",
       " Text(16, 0, '2020-12-06'),\n",
       " Text(17, 0, '2020-12-13'),\n",
       " Text(18, 0, '2020-12-20'),\n",
       " Text(19, 0, '2020-12-27'),\n",
       " Text(20, 0, '2021-01-01'),\n",
       " Text(21, 0, '2021-01-08'),\n",
       " Text(22, 0, '2021-01-15'),\n",
       " Text(23, 0, '2021-01-22'),\n",
       " Text(24, 0, '2021-01-29'),\n",
       " Text(25, 0, '2021-02-05'),\n",
       " Text(26, 0, '2021-02-12'),\n",
       " Text(27, 0, '2021-02-19'),\n",
       " Text(28, 0, '2021-02-26'),\n",
       " Text(29, 0, '2021-03-05'),\n",
       " Text(30, 0, '2021-03-12'),\n",
       " Text(31, 0, '2021-03-19'),\n",
       " Text(32, 0, '2021-03-26'),\n",
       " Text(33, 0, '2021-04-02'),\n",
       " Text(34, 0, '2021-04-09'),\n",
       " Text(35, 0, '2021-04-16'),\n",
       " Text(36, 0, '2021-04-23'),\n",
       " Text(37, 0, '2021-04-30'),\n",
       " Text(38, 0, '2021-05-07'),\n",
       " Text(39, 0, '2021-05-14'),\n",
       " Text(40, 0, '2021-05-21'),\n",
       " Text(41, 0, '2021-05-28'),\n",
       " Text(42, 0, '2021-06-04'),\n",
       " Text(43, 0, '2021-06-11'),\n",
       " Text(44, 0, '2021-06-18'),\n",
       " Text(45, 0, '2021-06-25')]"
      ]
     },
     "execution_count": 16,
     "metadata": {},
     "output_type": "execute_result"
    },
    {
     "data": {
      "text/plain": [
       "Text(0.5, 0, '주')"
      ]
     },
     "execution_count": 16,
     "metadata": {},
     "output_type": "execute_result"
    },
    {
     "data": {
      "text/plain": [
       "Text(0, 0.5, '2019년 대비 매출액 비율 (%)')"
      ]
     },
     "execution_count": 16,
     "metadata": {},
     "output_type": "execute_result"
    },
    {
     "data": {
      "image/png": "[encoded data removed]",
      "text/plain": [
       "<Figure size 1080x720 with 1 Axes>"
      ]
     },
     "metadata": {
      "needs_background": "light"
     },
     "output_type": "display_data"
    }
   ],
   "source": [
    "## 1차 2차 백신 누적 접종 현황과 영화관 매출액 (%)\n",
    "\n",
    "x =  seoul_vc['주']\n",
    "y =  seoul_vc['매출액'] / avg_movie['매출액'][0] * 100\n",
    "\n",
    "\n",
    "\n",
    "plt.gcf().set_size_inches(15, 10)\n",
    "\n",
    "fig1 =sns.barplot(x = x, y = y, color = 'Green') # plots the first set of data, and sets it to ax1. #\n",
    "\n",
    "#plt.axhline(avg_movie['매출액'][0],0.05, 0.95, color = 'red', linestyle = '--' )\n",
    "\n",
    "fig1.set_xticklabels(fig1.get_xticklabels(), rotation= 55, fontsize='small')\n",
    "\n",
    "\n",
    "## 라벨 이름 설정\n",
    "fig1.set_xlabel(\"주\", fontsize = 15)\n",
    "fig1.set_ylabel(\"2019년 대비 매출액 비율 (%)\", fontsize = 15)\n",
    "\n",
    "\n",
    "ax = plt.gca()\n",
    "ax.get_yaxis().get_major_formatter().set_scientific(False)\n",
    "\n",
    "\n",
    "plt.show()"
   ]
  },
  {
   "cell_type": "code",
   "execution_count": null,
   "metadata": {},
   "outputs": [],
   "source": []
  },
  {
   "cell_type": "code",
   "execution_count": null,
   "metadata": {},
   "outputs": [],
   "source": []
  },
  {
   "cell_type": "code",
   "execution_count": null,
   "metadata": {},
   "outputs": [],
   "source": []
  },
  {
   "cell_type": "markdown",
   "metadata": {},
   "source": [
    "## 부산 최종 그래프"
   ]
  },
  {
   "cell_type": "markdown",
   "metadata": {},
   "source": [
    "## 부산 관객수"
   ]
  },
  {
   "cell_type": "code",
   "execution_count": 17,
   "metadata": {
    "scrolled": false
   },
   "outputs": [
    {
     "name": "stderr",
     "output_type": "stream",
     "text": [
      "<ipython-input-17-ca5847ef0e6b>:25: UserWarning: FixedFormatter should only be used together with FixedLocator\n",
      "  fig1.set_xticklabels(fig1.get_xticklabels(), rotation= 55, fontsize='small')\n"
     ]
    },
    {
     "data": {
      "text/plain": [
       "[Text(0, 0, '2020-08-16'),\n",
       " Text(1, 0, '2020-08-23'),\n",
       " Text(2, 0, '2020-08-30'),\n",
       " Text(3, 0, '2020-09-06'),\n",
       " Text(4, 0, '2020-09-13'),\n",
       " Text(5, 0, '2020-09-20'),\n",
       " Text(6, 0, '2020-09-27'),\n",
       " Text(7, 0, '2020-10-04'),\n",
       " Text(8, 0, '2020-10-11'),\n",
       " Text(9, 0, '2020-10-18'),\n",
       " Text(10, 0, '2020-10-25'),\n",
       " Text(11, 0, '2020-11-01'),\n",
       " Text(12, 0, '2020-11-08'),\n",
       " Text(13, 0, '2020-11-15'),\n",
       " Text(14, 0, '2020-11-22'),\n",
       " Text(15, 0, '2020-11-29'),\n",
       " Text(16, 0, '2020-12-06'),\n",
       " Text(17, 0, '2020-12-13'),\n",
       " Text(18, 0, '2020-12-20'),\n",
       " Text(19, 0, '2020-12-27'),\n",
       " Text(20, 0, '2021-01-01'),\n",
       " Text(21, 0, '2021-01-08'),\n",
       " Text(22, 0, '2021-01-15'),\n",
       " Text(23, 0, '2021-01-22'),\n",
       " Text(24, 0, '2021-01-29'),\n",
       " Text(25, 0, '2021-02-05'),\n",
       " Text(26, 0, '2021-02-12'),\n",
       " Text(27, 0, '2021-02-19'),\n",
       " Text(28, 0, '2021-02-26'),\n",
       " Text(29, 0, '2021-03-05'),\n",
       " Text(30, 0, '2021-03-12'),\n",
       " Text(31, 0, '2021-03-19'),\n",
       " Text(32, 0, '2021-03-26'),\n",
       " Text(33, 0, '2021-04-02'),\n",
       " Text(34, 0, '2021-04-09'),\n",
       " Text(35, 0, '2021-04-16'),\n",
       " Text(36, 0, '2021-04-23'),\n",
       " Text(37, 0, '2021-04-30'),\n",
       " Text(38, 0, '2021-05-07'),\n",
       " Text(39, 0, '2021-05-14'),\n",
       " Text(40, 0, '2021-05-21'),\n",
       " Text(41, 0, '2021-05-28'),\n",
       " Text(42, 0, '2021-06-04'),\n",
       " Text(43, 0, '2021-06-11'),\n",
       " Text(44, 0, '2021-06-18'),\n",
       " Text(45, 0, '2021-06-25')]"
      ]
     },
     "execution_count": 17,
     "metadata": {},
     "output_type": "execute_result"
    },
    {
     "data": {
      "text/plain": [
       "Text(0.5, 0, '주')"
      ]
     },
     "execution_count": 17,
     "metadata": {},
     "output_type": "execute_result"
    },
    {
     "data": {
      "text/plain": [
       "Text(0, 0.5, '관객수 (명)')"
      ]
     },
     "execution_count": 17,
     "metadata": {},
     "output_type": "execute_result"
    },
    {
     "data": {
      "text/plain": [
       "Text(0, 0.5, '접종자 수')"
      ]
     },
     "execution_count": 17,
     "metadata": {},
     "output_type": "execute_result"
    },
    {
     "data": {
      "text/plain": [
       "<matplotlib.legend.Legend at 0x26c3e4caf10>"
      ]
     },
     "execution_count": 17,
     "metadata": {},
     "output_type": "execute_result"
    },
    {
     "data": {
      "image/png": "[encoded data removed]",
      "text/plain": [
       "<Figure size 1080x720 with 2 Axes>"
      ]
     },
     "metadata": {
      "needs_background": "light"
     },
     "output_type": "display_data"
    }
   ],
   "source": [
    "## 1차 2차 백신 누적 접종 현황과 관객수\n",
    "\n",
    "x =  busan_vc['주']\n",
    "y =  busan_vc['관객수']\n",
    "y1 = busan_vc['1차접종누계']\n",
    "y2 = busan_vc['2차접종누계']\n",
    "\n",
    "\n",
    "fig, ax1 = plt.subplots() # initializes figure and plots\n",
    "\n",
    "ax = plt.gca()\n",
    "ax.get_yaxis().get_major_formatter().set_scientific(False)\n",
    "\n",
    "\n",
    "\n",
    "ax2 = ax1.twinx()\n",
    "plt.gcf().set_size_inches(15, 10)\n",
    "\n",
    "fig1 = sns.barplot(x = x, y = y, ax = ax1, color = 'firebrick') # plots the first set of data, and sets it to ax1. #\n",
    "fig2 = sns.lineplot(x = x, y = y1, color = 'deepskyblue', ax = ax2, lw=5) # plots the second set, and sets to ax2. \n",
    "fig3 = sns.lineplot(x = x, y = y2, color = 'blue', ax = ax2, lw=5)\n",
    "\n",
    "#plt.axhline(avg_movie['매출액'][0],0.05, 0.95, color = 'red', linestyle = '--' )\n",
    "\n",
    "fig1.set_xticklabels(fig1.get_xticklabels(), rotation= 55, fontsize='small')\n",
    "\n",
    "\n",
    "## 라벨 이름 설정\n",
    "fig1.set_xlabel(\"주\", fontsize = 15)\n",
    "fig1.set_ylabel(\"관객수 (명)\", fontsize = 15)\n",
    "fig2.set_ylabel(\"접종자 수\", fontsize = 15)\n",
    "\n",
    "ax = plt.gca()\n",
    "ax.get_yaxis().get_major_formatter().set_scientific(False)\n",
    "\n",
    "\n",
    "\n",
    "plt.legend(labels=[\"1차접종\",\"2차접종\"])\n",
    "\n",
    "plt.show()"
   ]
  },
  {
   "cell_type": "markdown",
   "metadata": {},
   "source": [
    "## 부산 매출액"
   ]
  },
  {
   "cell_type": "code",
   "execution_count": 21,
   "metadata": {},
   "outputs": [
    {
     "name": "stderr",
     "output_type": "stream",
     "text": [
      "<ipython-input-21-82ce47e83eba>:24: UserWarning: FixedFormatter should only be used together with FixedLocator\n",
      "  fig1.set_xticklabels(fig1.get_xticklabels(), rotation= 55, fontsize='small')\n"
     ]
    },
    {
     "data": {
      "text/plain": [
       "[Text(0, 0, '2020-08-16'),\n",
       " Text(1, 0, '2020-08-23'),\n",
       " Text(2, 0, '2020-08-30'),\n",
       " Text(3, 0, '2020-09-06'),\n",
       " Text(4, 0, '2020-09-13'),\n",
       " Text(5, 0, '2020-09-20'),\n",
       " Text(6, 0, '2020-09-27'),\n",
       " Text(7, 0, '2020-10-04'),\n",
       " Text(8, 0, '2020-10-11'),\n",
       " Text(9, 0, '2020-10-18'),\n",
       " Text(10, 0, '2020-10-25'),\n",
       " Text(11, 0, '2020-11-01'),\n",
       " Text(12, 0, '2020-11-08'),\n",
       " Text(13, 0, '2020-11-15'),\n",
       " Text(14, 0, '2020-11-22'),\n",
       " Text(15, 0, '2020-11-29'),\n",
       " Text(16, 0, '2020-12-06'),\n",
       " Text(17, 0, '2020-12-13'),\n",
       " Text(18, 0, '2020-12-20'),\n",
       " Text(19, 0, '2020-12-27'),\n",
       " Text(20, 0, '2021-01-01'),\n",
       " Text(21, 0, '2021-01-08'),\n",
       " Text(22, 0, '2021-01-15'),\n",
       " Text(23, 0, '2021-01-22'),\n",
       " Text(24, 0, '2021-01-29'),\n",
       " Text(25, 0, '2021-02-05'),\n",
       " Text(26, 0, '2021-02-12'),\n",
       " Text(27, 0, '2021-02-19'),\n",
       " Text(28, 0, '2021-02-26'),\n",
       " Text(29, 0, '2021-03-05'),\n",
       " Text(30, 0, '2021-03-12'),\n",
       " Text(31, 0, '2021-03-19'),\n",
       " Text(32, 0, '2021-03-26'),\n",
       " Text(33, 0, '2021-04-02'),\n",
       " Text(34, 0, '2021-04-09'),\n",
       " Text(35, 0, '2021-04-16'),\n",
       " Text(36, 0, '2021-04-23'),\n",
       " Text(37, 0, '2021-04-30'),\n",
       " Text(38, 0, '2021-05-07'),\n",
       " Text(39, 0, '2021-05-14'),\n",
       " Text(40, 0, '2021-05-21'),\n",
       " Text(41, 0, '2021-05-28'),\n",
       " Text(42, 0, '2021-06-04'),\n",
       " Text(43, 0, '2021-06-11'),\n",
       " Text(44, 0, '2021-06-18'),\n",
       " Text(45, 0, '2021-06-25')]"
      ]
     },
     "execution_count": 21,
     "metadata": {},
     "output_type": "execute_result"
    },
    {
     "data": {
      "text/plain": [
       "Text(0.5, 0, '주')"
      ]
     },
     "execution_count": 21,
     "metadata": {},
     "output_type": "execute_result"
    },
    {
     "data": {
      "text/plain": [
       "Text(0, 0.5, '매출액 (원)')"
      ]
     },
     "execution_count": 21,
     "metadata": {},
     "output_type": "execute_result"
    },
    {
     "data": {
      "text/plain": [
       "Text(0, 0.5, '접종자 수')"
      ]
     },
     "execution_count": 21,
     "metadata": {},
     "output_type": "execute_result"
    },
    {
     "data": {
      "text/plain": [
       "<matplotlib.legend.Legend at 0x26c40e7e3d0>"
      ]
     },
     "execution_count": 21,
     "metadata": {},
     "output_type": "execute_result"
    },
    {
     "data": {
      "image/png": "[encoded data removed]",
      "text/plain": [
       "<Figure size 1080x720 with 2 Axes>"
      ]
     },
     "metadata": {
      "needs_background": "light"
     },
     "output_type": "display_data"
    }
   ],
   "source": [
    "## 1차 2차 백신 누적 접종 현황과 관객수\n",
    "\n",
    "x =  busan_vc['주']\n",
    "y =  busan_vc['매출액']\n",
    "y1 = busan_vc['1차접종누계']\n",
    "y2 = busan_vc['2차접종누계']\n",
    "\n",
    "\n",
    "fig, ax1 = plt.subplots() # initializes figure and plots\n",
    "\n",
    "ax = plt.gca()\n",
    "ax.get_yaxis().get_major_formatter().set_scientific(False)\n",
    "\n",
    "\n",
    "\n",
    "ax2 = ax1.twinx()\n",
    "plt.gcf().set_size_inches(15, 10)\n",
    "\n",
    "fig1 = sns.barplot(x = x, y = y, ax = ax1, color = 'green') # plots the first set of data, and sets it to ax1. #\n",
    "fig2 = sns.lineplot(x = x, y = y1, color = 'red', ax = ax2, lw=5) # plots the second set, and sets to ax2. \n",
    "fig3 = sns.lineplot(x = x, y = y2, color = 'blue', ax = ax2, lw=5)\n",
    "\n",
    "\n",
    "fig1.set_xticklabels(fig1.get_xticklabels(), rotation= 55, fontsize='small')\n",
    "\n",
    "\n",
    "## 라벨 이름 설정\n",
    "fig1.set_xlabel(\"주\", fontsize = 15)\n",
    "fig1.set_ylabel(\"매출액 (원)\", fontsize = 15)\n",
    "fig2.set_ylabel(\"접종자 수\", fontsize = 15)\n",
    "\n",
    "ax = plt.gca()\n",
    "ax.get_yaxis().get_major_formatter().set_scientific(False)\n",
    "\n",
    "\n",
    "\n",
    "plt.legend(labels=[\"1차접종\",\"2차접종\"])\n",
    "\n",
    "plt.show()"
   ]
  },
  {
   "cell_type": "code",
   "execution_count": null,
   "metadata": {},
   "outputs": [],
   "source": []
  },
  {
   "cell_type": "markdown",
   "metadata": {},
   "source": [
    "## 부산 상대 매출액"
   ]
  },
  {
   "cell_type": "code",
   "execution_count": 18,
   "metadata": {},
   "outputs": [
    {
     "data": {
      "text/plain": [
       "[Text(0, 0, '2020-08-16'),\n",
       " Text(1, 0, '2020-08-23'),\n",
       " Text(2, 0, '2020-08-30'),\n",
       " Text(3, 0, '2020-09-06'),\n",
       " Text(4, 0, '2020-09-13'),\n",
       " Text(5, 0, '2020-09-20'),\n",
       " Text(6, 0, '2020-09-27'),\n",
       " Text(7, 0, '2020-10-04'),\n",
       " Text(8, 0, '2020-10-11'),\n",
       " Text(9, 0, '2020-10-18'),\n",
       " Text(10, 0, '2020-10-25'),\n",
       " Text(11, 0, '2020-11-01'),\n",
       " Text(12, 0, '2020-11-08'),\n",
       " Text(13, 0, '2020-11-15'),\n",
       " Text(14, 0, '2020-11-22'),\n",
       " Text(15, 0, '2020-11-29'),\n",
       " Text(16, 0, '2020-12-06'),\n",
       " Text(17, 0, '2020-12-13'),\n",
       " Text(18, 0, '2020-12-20'),\n",
       " Text(19, 0, '2020-12-27'),\n",
       " Text(20, 0, '2021-01-01'),\n",
       " Text(21, 0, '2021-01-08'),\n",
       " Text(22, 0, '2021-01-15'),\n",
       " Text(23, 0, '2021-01-22'),\n",
       " Text(24, 0, '2021-01-29'),\n",
       " Text(25, 0, '2021-02-05'),\n",
       " Text(26, 0, '2021-02-12'),\n",
       " Text(27, 0, '2021-02-19'),\n",
       " Text(28, 0, '2021-02-26'),\n",
       " Text(29, 0, '2021-03-05'),\n",
       " Text(30, 0, '2021-03-12'),\n",
       " Text(31, 0, '2021-03-19'),\n",
       " Text(32, 0, '2021-03-26'),\n",
       " Text(33, 0, '2021-04-02'),\n",
       " Text(34, 0, '2021-04-09'),\n",
       " Text(35, 0, '2021-04-16'),\n",
       " Text(36, 0, '2021-04-23'),\n",
       " Text(37, 0, '2021-04-30'),\n",
       " Text(38, 0, '2021-05-07'),\n",
       " Text(39, 0, '2021-05-14'),\n",
       " Text(40, 0, '2021-05-21'),\n",
       " Text(41, 0, '2021-05-28'),\n",
       " Text(42, 0, '2021-06-04'),\n",
       " Text(43, 0, '2021-06-11'),\n",
       " Text(44, 0, '2021-06-18'),\n",
       " Text(45, 0, '2021-06-25')]"
      ]
     },
     "execution_count": 18,
     "metadata": {},
     "output_type": "execute_result"
    },
    {
     "data": {
      "text/plain": [
       "Text(0.5, 0, '주')"
      ]
     },
     "execution_count": 18,
     "metadata": {},
     "output_type": "execute_result"
    },
    {
     "data": {
      "text/plain": [
       "Text(0, 0.5, '2019년 대비 매출액 비율 (%)')"
      ]
     },
     "execution_count": 18,
     "metadata": {},
     "output_type": "execute_result"
    },
    {
     "data": {
      "image/png": "[encoded data removed]",
      "text/plain": [
       "<Figure size 1080x720 with 1 Axes>"
      ]
     },
     "metadata": {
      "needs_background": "light"
     },
     "output_type": "display_data"
    }
   ],
   "source": [
    "## 1차 2차 백신 누적 접종 현황과 영화관 매출액 (%)\n",
    "\n",
    "x =  busan_vc['주']\n",
    "y =  busan_vc['매출액'] / avg_movie['매출액'][1] * 100\n",
    "\n",
    "\n",
    "\n",
    "plt.gcf().set_size_inches(15, 10)\n",
    "\n",
    "fig1 =sns.barplot(x = x, y = y, color = 'Orange') # plots the first set of data, and sets it to ax1. #\n",
    "\n",
    "#plt.axhline(avg_movie['매출액'][0],0.05, 0.95, color = 'red', linestyle = '--' )\n",
    "\n",
    "fig1.set_xticklabels(fig1.get_xticklabels(), rotation= 55, fontsize='small')\n",
    "\n",
    "\n",
    "## 라벨 이름 설정\n",
    "fig1.set_xlabel(\"주\", fontsize = 15)\n",
    "fig1.set_ylabel(\"2019년 대비 매출액 비율 (%)\", fontsize = 15)\n",
    "\n",
    "\n",
    "ax = plt.gca()\n",
    "ax.get_yaxis().get_major_formatter().set_scientific(False)\n",
    "\n",
    "\n",
    "plt.show()"
   ]
  },
  {
   "cell_type": "code",
   "execution_count": null,
   "metadata": {},
   "outputs": [],
   "source": []
  },
  {
   "cell_type": "code",
   "execution_count": null,
   "metadata": {},
   "outputs": [],
   "source": []
  },
  {
   "cell_type": "code",
   "execution_count": null,
   "metadata": {},
   "outputs": [],
   "source": []
  },
  {
   "cell_type": "code",
   "execution_count": null,
   "metadata": {},
   "outputs": [],
   "source": []
  },
  {
   "cell_type": "code",
   "execution_count": null,
   "metadata": {},
   "outputs": [],
   "source": []
  },
  {
   "cell_type": "code",
   "execution_count": null,
   "metadata": {},
   "outputs": [],
   "source": []
  },
  {
   "cell_type": "code",
   "execution_count": null,
   "metadata": {},
   "outputs": [],
   "source": []
  },
  {
   "cell_type": "code",
   "execution_count": null,
   "metadata": {},
   "outputs": [],
   "source": []
  },
  {
   "cell_type": "code",
   "execution_count": null,
   "metadata": {},
   "outputs": [],
   "source": []
  },
  {
   "cell_type": "code",
   "execution_count": null,
   "metadata": {},
   "outputs": [],
   "source": []
  },
  {
   "cell_type": "code",
   "execution_count": null,
   "metadata": {},
   "outputs": [],
   "source": []
  },
  {
   "cell_type": "code",
   "execution_count": null,
   "metadata": {},
   "outputs": [],
   "source": []
  }
 ],
 "metadata": {
  "kernelspec": {
   "display_name": "Python 3",
   "language": "python",
   "name": "python3"
  },
  "language_info": {
   "codemirror_mode": {
    "name": "ipython",
    "version": 3
   },
   "file_extension": ".py",
   "mimetype": "text/x-python",
   "name": "python",
   "nbconvert_exporter": "python",
   "pygments_lexer": "ipython3",
   "version": "3.8.5"
  }
 },
 "nbformat": 4,
 "nbformat_minor": 5
}
