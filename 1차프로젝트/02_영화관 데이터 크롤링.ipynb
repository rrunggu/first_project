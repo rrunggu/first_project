{
 "cells": [
  {
   "cell_type": "code",
   "execution_count": 96,
   "metadata": {},
   "outputs": [],
   "source": [
    "#동적 생성되는 data 크롤링\n",
    "#Selenium 모듈 사용\n",
    "import requests\n",
    "from bs4 import BeautifulSoup\n",
    "from urllib.request import urlopen\n",
    "import selenium\n",
    "from selenium import webdriver\n",
    "from selenium.webdriver.common.keys import Keys\n",
    "import pandas as pd\n",
    "import time\n",
    "from IPython.core.interactiveshell import InteractiveShell\n",
    "InteractiveShell.ast_node_interactivity = \"all\"\n",
    "from selenium.webdriver.common.alert import Alert"
   ]
  },
  {
   "cell_type": "code",
   "execution_count": 97,
   "metadata": {},
   "outputs": [
    {
     "data": {
      "text/plain": [
       "DatetimeIndex(['2021-01-01', '2021-01-08', '2021-01-15', '2021-01-22',\n",
       "               '2021-01-29', '2021-02-05', '2021-02-12', '2021-02-19',\n",
       "               '2021-02-26', '2021-03-05', '2021-03-12', '2021-03-19',\n",
       "               '2021-03-26', '2021-04-02', '2021-04-09', '2021-04-16',\n",
       "               '2021-04-23', '2021-04-30', '2021-05-07', '2021-05-14',\n",
       "               '2021-05-21', '2021-05-28', '2021-06-04', '2021-06-11',\n",
       "               '2021-06-18'],\n",
       "              dtype='datetime64[ns]', freq='7D')"
      ]
     },
     "execution_count": 97,
     "metadata": {},
     "output_type": "execute_result"
    },
    {
     "data": {
      "text/plain": [
       "['2021-01-01',\n",
       " '2021-01-08',\n",
       " '2021-01-15',\n",
       " '2021-01-22',\n",
       " '2021-01-29',\n",
       " '2021-02-05',\n",
       " '2021-02-12',\n",
       " '2021-02-19',\n",
       " '2021-02-26',\n",
       " '2021-03-05',\n",
       " '2021-03-12',\n",
       " '2021-03-19',\n",
       " '2021-03-26',\n",
       " '2021-04-02',\n",
       " '2021-04-09',\n",
       " '2021-04-16',\n",
       " '2021-04-23',\n",
       " '2021-04-30',\n",
       " '2021-05-07',\n",
       " '2021-05-14',\n",
       " '2021-05-21',\n",
       " '2021-05-28',\n",
       " '2021-06-04',\n",
       " '2021-06-11',\n",
       " '2021-06-18']"
      ]
     },
     "execution_count": 97,
     "metadata": {},
     "output_type": "execute_result"
    }
   ],
   "source": [
    "sdate_range=pd.date_range('2021-01-01','2021-06-23',freq = '7D') #real : 2020-12-26\n",
    "sdate_range\n",
    "\n",
    "sdate_range=pd.Series(sdate_range.format())\n",
    "list(sdate_range)"
   ]
  },
  {
   "cell_type": "code",
   "execution_count": 98,
   "metadata": {},
   "outputs": [
    {
     "data": {
      "text/plain": [
       "DatetimeIndex(['2021-01-07', '2021-01-14', '2021-01-21', '2021-01-28',\n",
       "               '2021-02-04', '2021-02-11', '2021-02-18', '2021-02-25',\n",
       "               '2021-03-04', '2021-03-11', '2021-03-18', '2021-03-25',\n",
       "               '2021-04-01', '2021-04-08', '2021-04-15', '2021-04-22',\n",
       "               '2021-04-29', '2021-05-06', '2021-05-13', '2021-05-20',\n",
       "               '2021-05-27', '2021-06-03', '2021-06-10', '2021-06-17',\n",
       "               '2021-06-24', '2021-07-01'],\n",
       "              dtype='datetime64[ns]', freq='7D')"
      ]
     },
     "execution_count": 98,
     "metadata": {},
     "output_type": "execute_result"
    },
    {
     "data": {
      "text/plain": [
       "['2021-01-07',\n",
       " '2021-01-14',\n",
       " '2021-01-21',\n",
       " '2021-01-28',\n",
       " '2021-02-04',\n",
       " '2021-02-11',\n",
       " '2021-02-18',\n",
       " '2021-02-25',\n",
       " '2021-03-04',\n",
       " '2021-03-11',\n",
       " '2021-03-18',\n",
       " '2021-03-25',\n",
       " '2021-04-01',\n",
       " '2021-04-08',\n",
       " '2021-04-15',\n",
       " '2021-04-22',\n",
       " '2021-04-29',\n",
       " '2021-05-06',\n",
       " '2021-05-13',\n",
       " '2021-05-20',\n",
       " '2021-05-27',\n",
       " '2021-06-03',\n",
       " '2021-06-10',\n",
       " '2021-06-17',\n",
       " '2021-06-24',\n",
       " '2021-07-01']"
      ]
     },
     "execution_count": 98,
     "metadata": {},
     "output_type": "execute_result"
    }
   ],
   "source": [
    "edate_range=pd.date_range('2021-01-07','2021-07-01',freq = '7D') #real :   2020-12-31\n",
    "edate_range\n",
    "\n",
    "edate_range=pd.Series(edate_range.format())\n",
    "list(edate_range)"
   ]
  },
  {
   "cell_type": "code",
   "execution_count": 99,
   "metadata": {},
   "outputs": [
    {
     "data": {
      "text/plain": [
       "[('2021-01-01', '2021-01-07'),\n",
       " ('2021-01-08', '2021-01-14'),\n",
       " ('2021-01-15', '2021-01-21'),\n",
       " ('2021-01-22', '2021-01-28'),\n",
       " ('2021-01-29', '2021-02-04'),\n",
       " ('2021-02-05', '2021-02-11'),\n",
       " ('2021-02-12', '2021-02-18'),\n",
       " ('2021-02-19', '2021-02-25'),\n",
       " ('2021-02-26', '2021-03-04'),\n",
       " ('2021-03-05', '2021-03-11'),\n",
       " ('2021-03-12', '2021-03-18'),\n",
       " ('2021-03-19', '2021-03-25'),\n",
       " ('2021-03-26', '2021-04-01'),\n",
       " ('2021-04-02', '2021-04-08'),\n",
       " ('2021-04-09', '2021-04-15'),\n",
       " ('2021-04-16', '2021-04-22'),\n",
       " ('2021-04-23', '2021-04-29'),\n",
       " ('2021-04-30', '2021-05-06'),\n",
       " ('2021-05-07', '2021-05-13'),\n",
       " ('2021-05-14', '2021-05-20'),\n",
       " ('2021-05-21', '2021-05-27'),\n",
       " ('2021-05-28', '2021-06-03'),\n",
       " ('2021-06-04', '2021-06-10'),\n",
       " ('2021-06-11', '2021-06-17'),\n",
       " ('2021-06-18', '2021-06-24')]"
      ]
     },
     "execution_count": 99,
     "metadata": {},
     "output_type": "execute_result"
    }
   ],
   "source": [
    "date_range = list(zip(sdate_range,edate_range))\n",
    "date_range"
   ]
  },
  {
   "cell_type": "code",
   "execution_count": 104,
   "metadata": {},
   "outputs": [],
   "source": [
    "# webdriver 객체 생성\n",
    "driver =webdriver.Chrome('./driver/chromedriver')\n",
    "# 페이지 접근\n",
    "url ='https://www.kobis.or.kr/kobis/business/stat/them/findAreaShareList.do' \n",
    "driver.get(url)\n"
   ]
  },
  {
   "cell_type": "code",
   "execution_count": 105,
   "metadata": {},
   "outputs": [],
   "source": [
    "\n",
    "for start,end in date_range:\n",
    "    # 시작날짜 변경\n",
    "    first_elem = driver.find_element_by_name(\"sSearchFrom\")\n",
    "    first_elem.clear()\n",
    "    first_elem.send_keys(start)\n",
    "    \n",
    "    # 끝날짜 변경 \n",
    "    second_elem = driver.find_element_by_name(\"sSearchTo\")\n",
    "    second_elem.clear()\n",
    "    second_elem.send_keys(end)\n",
    "    \n",
    "    # 조회선택\n",
    "    search_button = driver.find_element_by_xpath('//*[@id=\"searchForm\"]/div/div[2]')\n",
    "    search_button.click()\n",
    "    \n",
    "    # 엑셀 다운로드\n",
    "    excel_button = driver.find_element_by_xpath('//*[@id=\"content\"]/div[3]/div/a')\n",
    "    excel_button.click()\n",
    "    \n",
    "    # 팝업창에서 확인 누르기 \n",
    "    \n",
    "    pop = Alert(driver)\n",
    "    pop.accept()\n",
    "    \n",
    "    \n",
    "# date_range 에 들어가지 않는 날짜범위(구간이 7일이 아닌 경우) 는 직접: 2021-06-25 ~ 2021-06-30"
   ]
  }
 ],
 "metadata": {
  "kernelspec": {
   "display_name": "Python 3",
   "language": "python",
   "name": "python3"
  },
  "language_info": {
   "codemirror_mode": {
    "name": "ipython",
    "version": 3
   },
   "file_extension": ".py",
   "mimetype": "text/x-python",
   "name": "python",
   "nbconvert_exporter": "python",
   "pygments_lexer": "ipython3",
   "version": "3.8.5"
  }
 },
 "nbformat": 4,
 "nbformat_minor": 4
}
