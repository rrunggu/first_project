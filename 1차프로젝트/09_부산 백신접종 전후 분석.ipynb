{
 "cells": [
  {
   "cell_type": "code",
   "execution_count": 250,
   "id": "11ecff13",
   "metadata": {},
   "outputs": [],
   "source": [
    "import pandas as pd\n",
    "from scipy.stats import *\n",
    "\n",
    "#seaborn 그리드 스타일\n",
    "sns.set_style(\"whitegrid\")\n",
    "\n",
    "from datetime import datetime\n",
    "np.set_printoptions(precision=6, suppress=True)\n",
    "import numpy as np\n",
    "from scipy import stats\n",
    "# matplotlib 패키지\n",
    "import matplotlib.pyplot as plt\n",
    "%matplotlib inline\n",
    "#그래프는 show()함수를 통해서 독립창에서 실행되는 것이 원칙\n",
    "#그래프를 콘솔에서 바로 작동되록 하는 설정\n",
    "import warnings \n",
    "warnings.filterwarnings('ignore')"
   ]
  },
  {
   "cell_type": "code",
   "execution_count": 251,
   "id": "0feaa50f",
   "metadata": {},
   "outputs": [],
   "source": [
    "from IPython.core.interactiveshell import InteractiveShell\n",
    "InteractiveShell.ast_node_interactivity=\"all\""
   ]
  },
  {
   "cell_type": "code",
   "execution_count": 252,
   "id": "43158ae3",
   "metadata": {},
   "outputs": [],
   "source": [
    "# 한글 문제\n",
    "# matplotlit의 기본 폰트에서 한글 지원되지 않기 때문에\n",
    "# matplotlib의 폰트 변경 필요\n",
    "import platform\n",
    "\n",
    "from matplotlib import font_manager, rc\n",
    "plt.rcParams['axes.unicode_minus'] = False\n",
    "\n",
    "if platform.system() == 'Darwin':  # 맥OS \n",
    "    rc('font', family='AppleGothic')\n",
    "elif platform.system() == 'Windows':  # 윈도우\n",
    "    path = \"c:/Windows/Fonts/malgun.ttf\"\n",
    "    font_name = font_manager.FontProperties(fname=path).get_name()\n",
    "    rc('font', family=font_name)\n",
    "else:\n",
    "    print('Unknown system...  sorry~~~')\n"
   ]
  },
  {
   "cell_type": "markdown",
   "id": "83fca6b5",
   "metadata": {},
   "source": [
    "## 데이터 불러오기 "
   ]
  },
  {
   "cell_type": "code",
   "execution_count": 253,
   "id": "03d566c8",
   "metadata": {},
   "outputs": [],
   "source": [
    "busan_av=pd.read_csv('./data/2021_03~06부산.csv', thousands=',',encoding='UTF-8')\n",
    "busan_bv = pd.read_csv(\"./data/2021_~02부산.csv\", thousands=',', encoding='UTF-8')\n",
    "busan_av2 = pd.read_csv(\"./data/2021_03~06부산.csv\", thousands=',', encoding='UTF-8')\n",
    "busan_2020=pd.read_csv('./data/busan_movie_2020.csv', thousands=',',encoding='UTF-8')"
   ]
  },
  {
   "cell_type": "code",
   "execution_count": 254,
   "id": "77d5054c",
   "metadata": {},
   "outputs": [],
   "source": [
    "busan_av=busan_av.drop(['Unnamed: 0'],axis=1)\n",
    "busan_bv=busan_bv.drop(['Unnamed: 0'],axis=1)\n",
    "busan_av2=busan_av2.drop(['Unnamed: 0'],axis=1)\n",
    "busan_2020=busan_2020.drop(['Unnamed: 0'],axis=1)"
   ]
  },
  {
   "cell_type": "code",
   "execution_count": 255,
   "id": "59da97ff",
   "metadata": {},
   "outputs": [],
   "source": [
    "# 백신전인 2020.08~2020 df 합치기\n",
    "busan_bv=pd.concat([busan_2020,busan_bv]).reset_index(drop=True)"
   ]
  },
  {
   "cell_type": "code",
   "execution_count": 256,
   "id": "57bd541d",
   "metadata": {},
   "outputs": [],
   "source": [
    "busan_av=busan_av.drop(0)"
   ]
  },
  {
   "cell_type": "code",
   "execution_count": 257,
   "id": "647ace28",
   "metadata": {
    "scrolled": true
   },
   "outputs": [
    {
     "data": {
      "text/html": [
       "<div>\n",
       "<style scoped>\n",
       "    .dataframe tbody tr th:only-of-type {\n",
       "        vertical-align: middle;\n",
       "    }\n",
       "\n",
       "    .dataframe tbody tr th {\n",
       "        vertical-align: top;\n",
       "    }\n",
       "\n",
       "    .dataframe thead th {\n",
       "        text-align: right;\n",
       "    }\n",
       "</style>\n",
       "<table border=\"1\" class=\"dataframe\">\n",
       "  <thead>\n",
       "    <tr style=\"text-align: right;\">\n",
       "      <th></th>\n",
       "      <th>지역</th>\n",
       "      <th>매출액</th>\n",
       "      <th>관객수</th>\n",
       "      <th>주</th>\n",
       "    </tr>\n",
       "  </thead>\n",
       "  <tbody>\n",
       "    <tr>\n",
       "      <th>0</th>\n",
       "      <td>부산시</td>\n",
       "      <td>1114537230</td>\n",
       "      <td>123943</td>\n",
       "      <td>2020-08-16</td>\n",
       "    </tr>\n",
       "    <tr>\n",
       "      <th>1</th>\n",
       "      <td>부산시</td>\n",
       "      <td>618924290</td>\n",
       "      <td>71890</td>\n",
       "      <td>2020-08-23</td>\n",
       "    </tr>\n",
       "    <tr>\n",
       "      <th>2</th>\n",
       "      <td>부산시</td>\n",
       "      <td>467448880</td>\n",
       "      <td>53630</td>\n",
       "      <td>2020-08-30</td>\n",
       "    </tr>\n",
       "    <tr>\n",
       "      <th>3</th>\n",
       "      <td>부산시</td>\n",
       "      <td>401747560</td>\n",
       "      <td>45878</td>\n",
       "      <td>2020-09-06</td>\n",
       "    </tr>\n",
       "    <tr>\n",
       "      <th>4</th>\n",
       "      <td>부산시</td>\n",
       "      <td>350543860</td>\n",
       "      <td>40374</td>\n",
       "      <td>2020-09-13</td>\n",
       "    </tr>\n",
       "    <tr>\n",
       "      <th>5</th>\n",
       "      <td>부산시</td>\n",
       "      <td>369444420</td>\n",
       "      <td>43470</td>\n",
       "      <td>2020-09-20</td>\n",
       "    </tr>\n",
       "    <tr>\n",
       "      <th>6</th>\n",
       "      <td>부산시</td>\n",
       "      <td>1270147320</td>\n",
       "      <td>137503</td>\n",
       "      <td>2020-09-27</td>\n",
       "    </tr>\n",
       "    <tr>\n",
       "      <th>7</th>\n",
       "      <td>부산시</td>\n",
       "      <td>677889690</td>\n",
       "      <td>74197</td>\n",
       "      <td>2020-10-04</td>\n",
       "    </tr>\n",
       "    <tr>\n",
       "      <th>8</th>\n",
       "      <td>부산시</td>\n",
       "      <td>425792690</td>\n",
       "      <td>46497</td>\n",
       "      <td>2020-10-11</td>\n",
       "    </tr>\n",
       "    <tr>\n",
       "      <th>9</th>\n",
       "      <td>부산시</td>\n",
       "      <td>517480560</td>\n",
       "      <td>57976</td>\n",
       "      <td>2020-10-18</td>\n",
       "    </tr>\n",
       "    <tr>\n",
       "      <th>10</th>\n",
       "      <td>부산시</td>\n",
       "      <td>610113200</td>\n",
       "      <td>72140</td>\n",
       "      <td>2020-10-25</td>\n",
       "    </tr>\n",
       "    <tr>\n",
       "      <th>11</th>\n",
       "      <td>부산시</td>\n",
       "      <td>714585170</td>\n",
       "      <td>80006</td>\n",
       "      <td>2020-11-01</td>\n",
       "    </tr>\n",
       "    <tr>\n",
       "      <th>12</th>\n",
       "      <td>부산시</td>\n",
       "      <td>709390750</td>\n",
       "      <td>79471</td>\n",
       "      <td>2020-11-08</td>\n",
       "    </tr>\n",
       "    <tr>\n",
       "      <th>13</th>\n",
       "      <td>부산시</td>\n",
       "      <td>615709150</td>\n",
       "      <td>70033</td>\n",
       "      <td>2020-11-15</td>\n",
       "    </tr>\n",
       "    <tr>\n",
       "      <th>14</th>\n",
       "      <td>부산시</td>\n",
       "      <td>418791390</td>\n",
       "      <td>49512</td>\n",
       "      <td>2020-11-22</td>\n",
       "    </tr>\n",
       "    <tr>\n",
       "      <th>15</th>\n",
       "      <td>부산시</td>\n",
       "      <td>231147290</td>\n",
       "      <td>27151</td>\n",
       "      <td>2020-11-29</td>\n",
       "    </tr>\n",
       "    <tr>\n",
       "      <th>16</th>\n",
       "      <td>부산시</td>\n",
       "      <td>179772960</td>\n",
       "      <td>20889</td>\n",
       "      <td>2020-12-06</td>\n",
       "    </tr>\n",
       "    <tr>\n",
       "      <th>17</th>\n",
       "      <td>부산시</td>\n",
       "      <td>137530150</td>\n",
       "      <td>16161</td>\n",
       "      <td>2020-12-13</td>\n",
       "    </tr>\n",
       "    <tr>\n",
       "      <th>18</th>\n",
       "      <td>부산시</td>\n",
       "      <td>263412500</td>\n",
       "      <td>30494</td>\n",
       "      <td>2020-12-20</td>\n",
       "    </tr>\n",
       "    <tr>\n",
       "      <th>19</th>\n",
       "      <td>부산시</td>\n",
       "      <td>162778220</td>\n",
       "      <td>20138</td>\n",
       "      <td>2020-12-27</td>\n",
       "    </tr>\n",
       "    <tr>\n",
       "      <th>20</th>\n",
       "      <td>부산시</td>\n",
       "      <td>133154520</td>\n",
       "      <td>15720</td>\n",
       "      <td>2021-01-01</td>\n",
       "    </tr>\n",
       "    <tr>\n",
       "      <th>21</th>\n",
       "      <td>부산시</td>\n",
       "      <td>90327570</td>\n",
       "      <td>10890</td>\n",
       "      <td>2021-01-08</td>\n",
       "    </tr>\n",
       "    <tr>\n",
       "      <th>22</th>\n",
       "      <td>부산시</td>\n",
       "      <td>139130900</td>\n",
       "      <td>16832</td>\n",
       "      <td>2021-01-15</td>\n",
       "    </tr>\n",
       "    <tr>\n",
       "      <th>23</th>\n",
       "      <td>부산시</td>\n",
       "      <td>381529810</td>\n",
       "      <td>45703</td>\n",
       "      <td>2021-01-22</td>\n",
       "    </tr>\n",
       "    <tr>\n",
       "      <th>24</th>\n",
       "      <td>부산시</td>\n",
       "      <td>467990770</td>\n",
       "      <td>52508</td>\n",
       "      <td>2021-01-29</td>\n",
       "    </tr>\n",
       "    <tr>\n",
       "      <th>25</th>\n",
       "      <td>부산시</td>\n",
       "      <td>553603860</td>\n",
       "      <td>60887</td>\n",
       "      <td>2021-02-05</td>\n",
       "    </tr>\n",
       "    <tr>\n",
       "      <th>26</th>\n",
       "      <td>부산시</td>\n",
       "      <td>571855100</td>\n",
       "      <td>62141</td>\n",
       "      <td>2021-02-12</td>\n",
       "    </tr>\n",
       "    <tr>\n",
       "      <th>27</th>\n",
       "      <td>부산시</td>\n",
       "      <td>460860670</td>\n",
       "      <td>52741</td>\n",
       "      <td>2021-02-19</td>\n",
       "    </tr>\n",
       "    <tr>\n",
       "      <th>28</th>\n",
       "      <td>부산시</td>\n",
       "      <td>539104860</td>\n",
       "      <td>59643</td>\n",
       "      <td>2021-02-26</td>\n",
       "    </tr>\n",
       "    <tr>\n",
       "      <th>29</th>\n",
       "      <td>부산시</td>\n",
       "      <td>513370590</td>\n",
       "      <td>56521</td>\n",
       "      <td>2021-03-05</td>\n",
       "    </tr>\n",
       "  </tbody>\n",
       "</table>\n",
       "</div>"
      ],
      "text/plain": [
       "     지역         매출액     관객수           주\n",
       "0   부산시  1114537230  123943  2020-08-16\n",
       "1   부산시   618924290   71890  2020-08-23\n",
       "2   부산시   467448880   53630  2020-08-30\n",
       "3   부산시   401747560   45878  2020-09-06\n",
       "4   부산시   350543860   40374  2020-09-13\n",
       "5   부산시   369444420   43470  2020-09-20\n",
       "6   부산시  1270147320  137503  2020-09-27\n",
       "7   부산시   677889690   74197  2020-10-04\n",
       "8   부산시   425792690   46497  2020-10-11\n",
       "9   부산시   517480560   57976  2020-10-18\n",
       "10  부산시   610113200   72140  2020-10-25\n",
       "11  부산시   714585170   80006  2020-11-01\n",
       "12  부산시   709390750   79471  2020-11-08\n",
       "13  부산시   615709150   70033  2020-11-15\n",
       "14  부산시   418791390   49512  2020-11-22\n",
       "15  부산시   231147290   27151  2020-11-29\n",
       "16  부산시   179772960   20889  2020-12-06\n",
       "17  부산시   137530150   16161  2020-12-13\n",
       "18  부산시   263412500   30494  2020-12-20\n",
       "19  부산시   162778220   20138  2020-12-27\n",
       "20  부산시   133154520   15720  2021-01-01\n",
       "21  부산시    90327570   10890  2021-01-08\n",
       "22  부산시   139130900   16832  2021-01-15\n",
       "23  부산시   381529810   45703  2021-01-22\n",
       "24  부산시   467990770   52508  2021-01-29\n",
       "25  부산시   553603860   60887  2021-02-05\n",
       "26  부산시   571855100   62141  2021-02-12\n",
       "27  부산시   460860670   52741  2021-02-19\n",
       "28  부산시   539104860   59643  2021-02-26\n",
       "29  부산시   513370590   56521  2021-03-05"
      ]
     },
     "execution_count": 257,
     "metadata": {},
     "output_type": "execute_result"
    },
    {
     "data": {
      "text/html": [
       "<div>\n",
       "<style scoped>\n",
       "    .dataframe tbody tr th:only-of-type {\n",
       "        vertical-align: middle;\n",
       "    }\n",
       "\n",
       "    .dataframe tbody tr th {\n",
       "        vertical-align: top;\n",
       "    }\n",
       "\n",
       "    .dataframe thead th {\n",
       "        text-align: right;\n",
       "    }\n",
       "</style>\n",
       "<table border=\"1\" class=\"dataframe\">\n",
       "  <thead>\n",
       "    <tr style=\"text-align: right;\">\n",
       "      <th></th>\n",
       "      <th>지역</th>\n",
       "      <th>매출액</th>\n",
       "      <th>관객수</th>\n",
       "      <th>주</th>\n",
       "    </tr>\n",
       "  </thead>\n",
       "  <tbody>\n",
       "    <tr>\n",
       "      <th>1</th>\n",
       "      <td>부산시</td>\n",
       "      <td>513370590</td>\n",
       "      <td>56521</td>\n",
       "      <td>2021-03-12</td>\n",
       "    </tr>\n",
       "    <tr>\n",
       "      <th>2</th>\n",
       "      <td>부산시</td>\n",
       "      <td>438756130</td>\n",
       "      <td>48866</td>\n",
       "      <td>2021-03-19</td>\n",
       "    </tr>\n",
       "    <tr>\n",
       "      <th>3</th>\n",
       "      <td>부산시</td>\n",
       "      <td>425217210</td>\n",
       "      <td>46215</td>\n",
       "      <td>2021-03-26</td>\n",
       "    </tr>\n",
       "    <tr>\n",
       "      <th>4</th>\n",
       "      <td>부산시</td>\n",
       "      <td>522446130</td>\n",
       "      <td>60290</td>\n",
       "      <td>2021-04-02</td>\n",
       "    </tr>\n",
       "    <tr>\n",
       "      <th>5</th>\n",
       "      <td>부산시</td>\n",
       "      <td>395182360</td>\n",
       "      <td>43284</td>\n",
       "      <td>2021-04-09</td>\n",
       "    </tr>\n",
       "    <tr>\n",
       "      <th>6</th>\n",
       "      <td>부산시</td>\n",
       "      <td>314571750</td>\n",
       "      <td>35267</td>\n",
       "      <td>2021-04-16</td>\n",
       "    </tr>\n",
       "    <tr>\n",
       "      <th>7</th>\n",
       "      <td>부산시</td>\n",
       "      <td>390483590</td>\n",
       "      <td>42905</td>\n",
       "      <td>2021-04-23</td>\n",
       "    </tr>\n",
       "    <tr>\n",
       "      <th>8</th>\n",
       "      <td>부산시</td>\n",
       "      <td>445720640</td>\n",
       "      <td>51929</td>\n",
       "      <td>2021-04-30</td>\n",
       "    </tr>\n",
       "    <tr>\n",
       "      <th>9</th>\n",
       "      <td>부산시</td>\n",
       "      <td>656383270</td>\n",
       "      <td>73087</td>\n",
       "      <td>2021-05-07</td>\n",
       "    </tr>\n",
       "    <tr>\n",
       "      <th>10</th>\n",
       "      <td>부산시</td>\n",
       "      <td>321925980</td>\n",
       "      <td>35956</td>\n",
       "      <td>2021-05-14</td>\n",
       "    </tr>\n",
       "    <tr>\n",
       "      <th>11</th>\n",
       "      <td>부산시</td>\n",
       "      <td>691293590</td>\n",
       "      <td>74418</td>\n",
       "      <td>2021-05-21</td>\n",
       "    </tr>\n",
       "    <tr>\n",
       "      <th>12</th>\n",
       "      <td>부산시</td>\n",
       "      <td>814105630</td>\n",
       "      <td>90495</td>\n",
       "      <td>2021-05-28</td>\n",
       "    </tr>\n",
       "    <tr>\n",
       "      <th>13</th>\n",
       "      <td>부산시</td>\n",
       "      <td>733089700</td>\n",
       "      <td>79243</td>\n",
       "      <td>2021-06-04</td>\n",
       "    </tr>\n",
       "    <tr>\n",
       "      <th>14</th>\n",
       "      <td>부산시</td>\n",
       "      <td>780069950</td>\n",
       "      <td>82722</td>\n",
       "      <td>2021-06-11</td>\n",
       "    </tr>\n",
       "    <tr>\n",
       "      <th>15</th>\n",
       "      <td>부산시</td>\n",
       "      <td>679511920</td>\n",
       "      <td>71450</td>\n",
       "      <td>2021-06-18</td>\n",
       "    </tr>\n",
       "    <tr>\n",
       "      <th>16</th>\n",
       "      <td>부산시</td>\n",
       "      <td>858280140</td>\n",
       "      <td>89771</td>\n",
       "      <td>2021-06-25</td>\n",
       "    </tr>\n",
       "  </tbody>\n",
       "</table>\n",
       "</div>"
      ],
      "text/plain": [
       "     지역        매출액    관객수           주\n",
       "1   부산시  513370590  56521  2021-03-12\n",
       "2   부산시  438756130  48866  2021-03-19\n",
       "3   부산시  425217210  46215  2021-03-26\n",
       "4   부산시  522446130  60290  2021-04-02\n",
       "5   부산시  395182360  43284  2021-04-09\n",
       "6   부산시  314571750  35267  2021-04-16\n",
       "7   부산시  390483590  42905  2021-04-23\n",
       "8   부산시  445720640  51929  2021-04-30\n",
       "9   부산시  656383270  73087  2021-05-07\n",
       "10  부산시  321925980  35956  2021-05-14\n",
       "11  부산시  691293590  74418  2021-05-21\n",
       "12  부산시  814105630  90495  2021-05-28\n",
       "13  부산시  733089700  79243  2021-06-04\n",
       "14  부산시  780069950  82722  2021-06-11\n",
       "15  부산시  679511920  71450  2021-06-18\n",
       "16  부산시  858280140  89771  2021-06-25"
      ]
     },
     "execution_count": 257,
     "metadata": {},
     "output_type": "execute_result"
    }
   ],
   "source": [
    "# busan_bv=busan_bv.drop(['Unnamed: 0'],axis=1)\n",
    "busan_bv\n",
    "busan_av"
   ]
  },
  {
   "cell_type": "code",
   "execution_count": 258,
   "id": "c6c986f4",
   "metadata": {},
   "outputs": [],
   "source": [
    "busan_bv_total= (busan_bv['매출액'])\n",
    "busan_av_total=(busan_av['매출액'])"
   ]
  },
  {
   "cell_type": "code",
   "execution_count": 259,
   "id": "dcbb0daf",
   "metadata": {},
   "outputs": [
    {
     "data": {
      "text/html": [
       "<div>\n",
       "<style scoped>\n",
       "    .dataframe tbody tr th:only-of-type {\n",
       "        vertical-align: middle;\n",
       "    }\n",
       "\n",
       "    .dataframe tbody tr th {\n",
       "        vertical-align: top;\n",
       "    }\n",
       "\n",
       "    .dataframe thead th {\n",
       "        text-align: right;\n",
       "    }\n",
       "</style>\n",
       "<table border=\"1\" class=\"dataframe\">\n",
       "  <thead>\n",
       "    <tr style=\"text-align: right;\">\n",
       "      <th></th>\n",
       "      <th>매출액</th>\n",
       "      <th>관객수</th>\n",
       "    </tr>\n",
       "  </thead>\n",
       "  <tbody>\n",
       "    <tr>\n",
       "      <th>count</th>\n",
       "      <td>30.00</td>\n",
       "      <td>30.00</td>\n",
       "    </tr>\n",
       "    <tr>\n",
       "      <th>mean</th>\n",
       "      <td>470270531.00</td>\n",
       "      <td>53164.63</td>\n",
       "    </tr>\n",
       "    <tr>\n",
       "      <th>std</th>\n",
       "      <td>269279742.76</td>\n",
       "      <td>29252.72</td>\n",
       "    </tr>\n",
       "    <tr>\n",
       "      <th>min</th>\n",
       "      <td>90327570.00</td>\n",
       "      <td>10890.00</td>\n",
       "    </tr>\n",
       "    <tr>\n",
       "      <th>25%</th>\n",
       "      <td>285195340.00</td>\n",
       "      <td>32964.00</td>\n",
       "    </tr>\n",
       "    <tr>\n",
       "      <th>50%</th>\n",
       "      <td>464154775.00</td>\n",
       "      <td>52624.50</td>\n",
       "    </tr>\n",
       "    <tr>\n",
       "      <th>75%</th>\n",
       "      <td>600548675.00</td>\n",
       "      <td>68060.00</td>\n",
       "    </tr>\n",
       "    <tr>\n",
       "      <th>max</th>\n",
       "      <td>1270147320.00</td>\n",
       "      <td>137503.00</td>\n",
       "    </tr>\n",
       "  </tbody>\n",
       "</table>\n",
       "</div>"
      ],
      "text/plain": [
       "                매출액       관객수\n",
       "count         30.00     30.00\n",
       "mean   470270531.00  53164.63\n",
       "std    269279742.76  29252.72\n",
       "min     90327570.00  10890.00\n",
       "25%    285195340.00  32964.00\n",
       "50%    464154775.00  52624.50\n",
       "75%    600548675.00  68060.00\n",
       "max   1270147320.00 137503.00"
      ]
     },
     "execution_count": 259,
     "metadata": {},
     "output_type": "execute_result"
    },
    {
     "data": {
      "text/html": [
       "<div>\n",
       "<style scoped>\n",
       "    .dataframe tbody tr th:only-of-type {\n",
       "        vertical-align: middle;\n",
       "    }\n",
       "\n",
       "    .dataframe tbody tr th {\n",
       "        vertical-align: top;\n",
       "    }\n",
       "\n",
       "    .dataframe thead th {\n",
       "        text-align: right;\n",
       "    }\n",
       "</style>\n",
       "<table border=\"1\" class=\"dataframe\">\n",
       "  <thead>\n",
       "    <tr style=\"text-align: right;\">\n",
       "      <th></th>\n",
       "      <th>매출액</th>\n",
       "      <th>관객수</th>\n",
       "    </tr>\n",
       "  </thead>\n",
       "  <tbody>\n",
       "    <tr>\n",
       "      <th>count</th>\n",
       "      <td>16.00</td>\n",
       "      <td>16.00</td>\n",
       "    </tr>\n",
       "    <tr>\n",
       "      <th>mean</th>\n",
       "      <td>561275536.25</td>\n",
       "      <td>61401.19</td>\n",
       "    </tr>\n",
       "    <tr>\n",
       "      <th>std</th>\n",
       "      <td>181666750.79</td>\n",
       "      <td>18858.24</td>\n",
       "    </tr>\n",
       "    <tr>\n",
       "      <th>min</th>\n",
       "      <td>314571750.00</td>\n",
       "      <td>35267.00</td>\n",
       "    </tr>\n",
       "    <tr>\n",
       "      <th>25%</th>\n",
       "      <td>417708497.50</td>\n",
       "      <td>45482.25</td>\n",
       "    </tr>\n",
       "    <tr>\n",
       "      <th>50%</th>\n",
       "      <td>517908360.00</td>\n",
       "      <td>58405.50</td>\n",
       "    </tr>\n",
       "    <tr>\n",
       "      <th>75%</th>\n",
       "      <td>701742617.50</td>\n",
       "      <td>75624.25</td>\n",
       "    </tr>\n",
       "    <tr>\n",
       "      <th>max</th>\n",
       "      <td>858280140.00</td>\n",
       "      <td>90495.00</td>\n",
       "    </tr>\n",
       "  </tbody>\n",
       "</table>\n",
       "</div>"
      ],
      "text/plain": [
       "               매출액      관객수\n",
       "count        16.00    16.00\n",
       "mean  561275536.25 61401.19\n",
       "std   181666750.79 18858.24\n",
       "min   314571750.00 35267.00\n",
       "25%   417708497.50 45482.25\n",
       "50%   517908360.00 58405.50\n",
       "75%   701742617.50 75624.25\n",
       "max   858280140.00 90495.00"
      ]
     },
     "execution_count": 259,
     "metadata": {},
     "output_type": "execute_result"
    }
   ],
   "source": [
    "busan_bv.describe()\n",
    "busan_av.describe()\n",
    "avg_2019=2929067941"
   ]
  },
  {
   "cell_type": "code",
   "execution_count": 260,
   "id": "5ac26958",
   "metadata": {},
   "outputs": [
    {
     "data": {
      "text/plain": [
       "382176200.0"
      ]
     },
     "execution_count": 260,
     "metadata": {},
     "output_type": "execute_result"
    }
   ],
   "source": [
    "5.584576e+08-1.762814e+08"
   ]
  },
  {
   "cell_type": "code",
   "execution_count": 261,
   "id": "065a043a",
   "metadata": {},
   "outputs": [],
   "source": [
    "tmp = []\n",
    "for i in range(14):\n",
    "    tmp.append(np.random.randint(382176200,739550200,dtype='int64'))\n",
    "    \n",
    "# 결측치 처리 더 알아보기! ! ! ! ! !*********"
   ]
  },
  {
   "cell_type": "code",
   "execution_count": 262,
   "id": "8dd86dfe",
   "metadata": {},
   "outputs": [
    {
     "data": {
      "text/plain": [
       "array([513370590, 438756130, 425217210, 522446130, 395182360, 314571750,\n",
       "       390483590, 445720640, 656383270, 321925980, 691293590, 814105630,\n",
       "       733089700, 780069950, 679511920, 858280140, 600621813, 678611472,\n",
       "       453911396, 451749440, 665629690, 701324558, 613816447, 723108920,\n",
       "       713803730, 617594719, 644635681, 700872314, 648368999, 382611775],\n",
       "      dtype=int64)"
      ]
     },
     "execution_count": 262,
     "metadata": {},
     "output_type": "execute_result"
    }
   ],
   "source": [
    "# 접종이후의 데이터가 접종 전보다 부족해서 결측치를 평균값으로 대체\n",
    "busan_av_total = np.append(busan_av_total,tmp )\n",
    "busan_av_total"
   ]
  },
  {
   "cell_type": "code",
   "execution_count": 263,
   "id": "98d8394a",
   "metadata": {},
   "outputs": [
    {
     "data": {
      "text/plain": [
       "array([1114537230,  618924290,  467448880,  401747560,  350543860,\n",
       "        369444420, 1270147320,  677889690,  425792690,  517480560,\n",
       "        610113200,  714585170,  709390750,  615709150,  418791390,\n",
       "        231147290,  179772960,  137530150,  263412500,  162778220,\n",
       "        133154520,   90327570,  139130900,  381529810,  467990770,\n",
       "        553603860,  571855100,  460860670,  539104860,  513370590],\n",
       "      dtype=int64)"
      ]
     },
     "execution_count": 263,
     "metadata": {},
     "output_type": "execute_result"
    },
    {
     "data": {
      "text/plain": [
       "array([513370590, 438756130, 425217210, 522446130, 395182360, 314571750,\n",
       "       390483590, 445720640, 656383270, 321925980, 691293590, 814105630,\n",
       "       733089700, 780069950, 679511920, 858280140, 600621813, 678611472,\n",
       "       453911396, 451749440, 665629690, 701324558, 613816447, 723108920,\n",
       "       713803730, 617594719, 644635681, 700872314, 648368999, 382611775],\n",
       "      dtype=int64)"
      ]
     },
     "execution_count": 263,
     "metadata": {},
     "output_type": "execute_result"
    }
   ],
   "source": [
    "np.array(busan_bv_total)\n",
    "busan_av_total"
   ]
  },
  {
   "cell_type": "markdown",
   "id": "9630ab0d",
   "metadata": {},
   "source": [
    "## t검정"
   ]
  },
  {
   "cell_type": "code",
   "execution_count": 264,
   "id": "df4c0e74",
   "metadata": {
    "scrolled": true
   },
   "outputs": [
    {
     "data": {
      "text/plain": [
       "KstestResult(statistic=0.7333333333333334, pvalue=5.088705888288546e-17)"
      ]
     },
     "execution_count": 264,
     "metadata": {},
     "output_type": "execute_result"
    }
   ],
   "source": [
    "kstest(busan_av_total-busan_bv_total, 'norm')"
   ]
  },
  {
   "cell_type": "code",
   "execution_count": 265,
   "id": "75887649",
   "metadata": {},
   "outputs": [
    {
     "data": {
      "text/plain": [
       "Ttest_relResult(statistic=1.9115306706022364, pvalue=0.06586402399777479)"
      ]
     },
     "execution_count": 265,
     "metadata": {},
     "output_type": "execute_result"
    }
   ],
   "source": [
    "ttest_rel(busan_av_total, busan_bv_total)\n",
    "\n",
    "# 귀무가설 : 코로나 접종전과 이후의 매출액 차이가 없다\n",
    "\n",
    "# pvalue가 0에 가까우면 귀무가설은 기각"
   ]
  },
  {
   "cell_type": "code",
   "execution_count": 266,
   "id": "fc0c548a",
   "metadata": {
    "scrolled": false
   },
   "outputs": [
    {
     "data": {
      "text/plain": [
       "{'whiskers': [<matplotlib.lines.Line2D at 0x12b25431700>,\n",
       "  <matplotlib.lines.Line2D at 0x12b2330b8e0>,\n",
       "  <matplotlib.lines.Line2D at 0x12b25489f10>,\n",
       "  <matplotlib.lines.Line2D at 0x12b254a48e0>],\n",
       " 'caps': [<matplotlib.lines.Line2D at 0x12b23dee670>,\n",
       "  <matplotlib.lines.Line2D at 0x12b23202fa0>,\n",
       "  <matplotlib.lines.Line2D at 0x12b25418e50>,\n",
       "  <matplotlib.lines.Line2D at 0x12b25461880>],\n",
       " 'boxes': [<matplotlib.lines.Line2D at 0x12b25431d60>,\n",
       "  <matplotlib.lines.Line2D at 0x12b23303b80>],\n",
       " 'medians': [<matplotlib.lines.Line2D at 0x12b24002f10>,\n",
       "  <matplotlib.lines.Line2D at 0x12b254eb850>],\n",
       " 'fliers': [<matplotlib.lines.Line2D at 0x12b23303130>,\n",
       "  <matplotlib.lines.Line2D at 0x12b254ebb20>],\n",
       " 'means': []}"
      ]
     },
     "execution_count": 266,
     "metadata": {},
     "output_type": "execute_result"
    },
    {
     "data": {
      "text/plain": [
       "([<matplotlib.axis.XTick at 0x12b23463850>,\n",
       "  <matplotlib.axis.XTick at 0x12b23463700>],\n",
       " [Text(1, 0, '백신접종이전'), Text(2, 0, '백신접종이후')])"
      ]
     },
     "execution_count": 266,
     "metadata": {},
     "output_type": "execute_result"
    },
    {
     "data": {
      "text/plain": [
       "Text(0, 0.5, '2019 평균 대비 매출액%')"
      ]
     },
     "execution_count": 266,
     "metadata": {},
     "output_type": "execute_result"
    },
    {
     "data": {
      "text/plain": [
       "<function matplotlib.pyplot.show(close=None, block=None)>"
      ]
     },
     "execution_count": 266,
     "metadata": {},
     "output_type": "execute_result"
    },
    {
     "data": {
      "image/png": "[encoded data removed]",
      "text/plain": [
       "<Figure size 432x288 with 1 Axes>"
      ]
     },
     "metadata": {
      "needs_background": "light"
     },
     "output_type": "display_data"
    }
   ],
   "source": [
    "# 상자 그래프로 확인\n",
    "plt.boxplot([\n",
    "            busan_av_total/2929067941*100,\n",
    "            busan_bv_total/2929067941*100\n",
    "                              ])\n",
    "plt.xticks([1,2],['백신접종이전','백신접종이후'])\n",
    "plt.ylabel('2019 평균 대비 매출액%')  # [1,2]는 나누기정도\n",
    "plt.grid()\n",
    "plt.rcParams[\"font.family\"] = 'Malgun Gothic'\n",
    "plt.rcParams[\"font.size\"] = 15\n",
    "plt.show"
   ]
  },
  {
   "cell_type": "code",
   "execution_count": 267,
   "id": "471cb134",
   "metadata": {},
   "outputs": [],
   "source": [
    "# 산점도그래프\n",
    "# 그래프 기본 설정\n",
    "from matplotlib import pyplot as plt\n",
    "import numpy as np\n",
    "%matplotlib inline\n",
    "plt.rcParams[\"font.family\"] = 'Malgun Gothic'\n",
    "plt.rcParams[\"font.size\"] = 10\n",
    "plt.rcParams[\"figure.figsize\"] = (6, 6)\n",
    "plt.show()"
   ]
  },
  {
   "cell_type": "code",
   "execution_count": 268,
   "id": "2353e9e9",
   "metadata": {},
   "outputs": [
    {
     "data": {
      "text/plain": [
       "<Figure size 720x432 with 0 Axes>"
      ]
     },
     "execution_count": 268,
     "metadata": {},
     "output_type": "execute_result"
    },
    {
     "data": {
      "text/plain": [
       "<matplotlib.collections.PathCollection at 0x12b2543c280>"
      ]
     },
     "execution_count": 268,
     "metadata": {},
     "output_type": "execute_result"
    },
    {
     "data": {
      "image/png": "[encoded data removed]",
      "text/plain": [
       "<Figure size 720x432 with 1 Axes>"
      ]
     },
     "metadata": {
      "needs_background": "light"
     },
     "output_type": "display_data"
    }
   ],
   "source": [
    "plt.figure(figsize=(10,6))\n",
    "plt.scatter(busan_av['주'],busan_av['매출액'])"
   ]
  },
  {
   "cell_type": "markdown",
   "id": "95bee861",
   "metadata": {},
   "source": [
    "## 추가 시각화 (산점도, 회귀선)"
   ]
  },
  {
   "cell_type": "code",
   "execution_count": 269,
   "id": "43585207",
   "metadata": {
    "scrolled": false
   },
   "outputs": [],
   "source": [
    "busan_av['주차'] = [i for i in range(31,47)]\n",
    "busan_bv['주차'] = [i for i in range(1,31)]"
   ]
  },
  {
   "cell_type": "code",
   "execution_count": 270,
   "id": "18f308e9",
   "metadata": {
    "scrolled": true
   },
   "outputs": [
    {
     "data": {
      "text/html": [
       "<div>\n",
       "<style scoped>\n",
       "    .dataframe tbody tr th:only-of-type {\n",
       "        vertical-align: middle;\n",
       "    }\n",
       "\n",
       "    .dataframe tbody tr th {\n",
       "        vertical-align: top;\n",
       "    }\n",
       "\n",
       "    .dataframe thead th {\n",
       "        text-align: right;\n",
       "    }\n",
       "</style>\n",
       "<table border=\"1\" class=\"dataframe\">\n",
       "  <thead>\n",
       "    <tr style=\"text-align: right;\">\n",
       "      <th></th>\n",
       "      <th>지역</th>\n",
       "      <th>매출액</th>\n",
       "      <th>관객수</th>\n",
       "      <th>주</th>\n",
       "      <th>주차</th>\n",
       "    </tr>\n",
       "  </thead>\n",
       "  <tbody>\n",
       "    <tr>\n",
       "      <th>0</th>\n",
       "      <td>부산시</td>\n",
       "      <td>1114537230</td>\n",
       "      <td>123943</td>\n",
       "      <td>2020-08-16</td>\n",
       "      <td>1</td>\n",
       "    </tr>\n",
       "    <tr>\n",
       "      <th>1</th>\n",
       "      <td>부산시</td>\n",
       "      <td>618924290</td>\n",
       "      <td>71890</td>\n",
       "      <td>2020-08-23</td>\n",
       "      <td>2</td>\n",
       "    </tr>\n",
       "    <tr>\n",
       "      <th>2</th>\n",
       "      <td>부산시</td>\n",
       "      <td>467448880</td>\n",
       "      <td>53630</td>\n",
       "      <td>2020-08-30</td>\n",
       "      <td>3</td>\n",
       "    </tr>\n",
       "    <tr>\n",
       "      <th>3</th>\n",
       "      <td>부산시</td>\n",
       "      <td>401747560</td>\n",
       "      <td>45878</td>\n",
       "      <td>2020-09-06</td>\n",
       "      <td>4</td>\n",
       "    </tr>\n",
       "    <tr>\n",
       "      <th>4</th>\n",
       "      <td>부산시</td>\n",
       "      <td>350543860</td>\n",
       "      <td>40374</td>\n",
       "      <td>2020-09-13</td>\n",
       "      <td>5</td>\n",
       "    </tr>\n",
       "    <tr>\n",
       "      <th>5</th>\n",
       "      <td>부산시</td>\n",
       "      <td>369444420</td>\n",
       "      <td>43470</td>\n",
       "      <td>2020-09-20</td>\n",
       "      <td>6</td>\n",
       "    </tr>\n",
       "    <tr>\n",
       "      <th>6</th>\n",
       "      <td>부산시</td>\n",
       "      <td>1270147320</td>\n",
       "      <td>137503</td>\n",
       "      <td>2020-09-27</td>\n",
       "      <td>7</td>\n",
       "    </tr>\n",
       "    <tr>\n",
       "      <th>7</th>\n",
       "      <td>부산시</td>\n",
       "      <td>677889690</td>\n",
       "      <td>74197</td>\n",
       "      <td>2020-10-04</td>\n",
       "      <td>8</td>\n",
       "    </tr>\n",
       "    <tr>\n",
       "      <th>8</th>\n",
       "      <td>부산시</td>\n",
       "      <td>425792690</td>\n",
       "      <td>46497</td>\n",
       "      <td>2020-10-11</td>\n",
       "      <td>9</td>\n",
       "    </tr>\n",
       "    <tr>\n",
       "      <th>9</th>\n",
       "      <td>부산시</td>\n",
       "      <td>517480560</td>\n",
       "      <td>57976</td>\n",
       "      <td>2020-10-18</td>\n",
       "      <td>10</td>\n",
       "    </tr>\n",
       "    <tr>\n",
       "      <th>10</th>\n",
       "      <td>부산시</td>\n",
       "      <td>610113200</td>\n",
       "      <td>72140</td>\n",
       "      <td>2020-10-25</td>\n",
       "      <td>11</td>\n",
       "    </tr>\n",
       "    <tr>\n",
       "      <th>11</th>\n",
       "      <td>부산시</td>\n",
       "      <td>714585170</td>\n",
       "      <td>80006</td>\n",
       "      <td>2020-11-01</td>\n",
       "      <td>12</td>\n",
       "    </tr>\n",
       "    <tr>\n",
       "      <th>12</th>\n",
       "      <td>부산시</td>\n",
       "      <td>709390750</td>\n",
       "      <td>79471</td>\n",
       "      <td>2020-11-08</td>\n",
       "      <td>13</td>\n",
       "    </tr>\n",
       "    <tr>\n",
       "      <th>13</th>\n",
       "      <td>부산시</td>\n",
       "      <td>615709150</td>\n",
       "      <td>70033</td>\n",
       "      <td>2020-11-15</td>\n",
       "      <td>14</td>\n",
       "    </tr>\n",
       "    <tr>\n",
       "      <th>14</th>\n",
       "      <td>부산시</td>\n",
       "      <td>418791390</td>\n",
       "      <td>49512</td>\n",
       "      <td>2020-11-22</td>\n",
       "      <td>15</td>\n",
       "    </tr>\n",
       "    <tr>\n",
       "      <th>15</th>\n",
       "      <td>부산시</td>\n",
       "      <td>231147290</td>\n",
       "      <td>27151</td>\n",
       "      <td>2020-11-29</td>\n",
       "      <td>16</td>\n",
       "    </tr>\n",
       "    <tr>\n",
       "      <th>16</th>\n",
       "      <td>부산시</td>\n",
       "      <td>179772960</td>\n",
       "      <td>20889</td>\n",
       "      <td>2020-12-06</td>\n",
       "      <td>17</td>\n",
       "    </tr>\n",
       "    <tr>\n",
       "      <th>17</th>\n",
       "      <td>부산시</td>\n",
       "      <td>137530150</td>\n",
       "      <td>16161</td>\n",
       "      <td>2020-12-13</td>\n",
       "      <td>18</td>\n",
       "    </tr>\n",
       "    <tr>\n",
       "      <th>18</th>\n",
       "      <td>부산시</td>\n",
       "      <td>263412500</td>\n",
       "      <td>30494</td>\n",
       "      <td>2020-12-20</td>\n",
       "      <td>19</td>\n",
       "    </tr>\n",
       "    <tr>\n",
       "      <th>19</th>\n",
       "      <td>부산시</td>\n",
       "      <td>162778220</td>\n",
       "      <td>20138</td>\n",
       "      <td>2020-12-27</td>\n",
       "      <td>20</td>\n",
       "    </tr>\n",
       "    <tr>\n",
       "      <th>20</th>\n",
       "      <td>부산시</td>\n",
       "      <td>133154520</td>\n",
       "      <td>15720</td>\n",
       "      <td>2021-01-01</td>\n",
       "      <td>21</td>\n",
       "    </tr>\n",
       "    <tr>\n",
       "      <th>21</th>\n",
       "      <td>부산시</td>\n",
       "      <td>90327570</td>\n",
       "      <td>10890</td>\n",
       "      <td>2021-01-08</td>\n",
       "      <td>22</td>\n",
       "    </tr>\n",
       "    <tr>\n",
       "      <th>22</th>\n",
       "      <td>부산시</td>\n",
       "      <td>139130900</td>\n",
       "      <td>16832</td>\n",
       "      <td>2021-01-15</td>\n",
       "      <td>23</td>\n",
       "    </tr>\n",
       "    <tr>\n",
       "      <th>23</th>\n",
       "      <td>부산시</td>\n",
       "      <td>381529810</td>\n",
       "      <td>45703</td>\n",
       "      <td>2021-01-22</td>\n",
       "      <td>24</td>\n",
       "    </tr>\n",
       "    <tr>\n",
       "      <th>24</th>\n",
       "      <td>부산시</td>\n",
       "      <td>467990770</td>\n",
       "      <td>52508</td>\n",
       "      <td>2021-01-29</td>\n",
       "      <td>25</td>\n",
       "    </tr>\n",
       "    <tr>\n",
       "      <th>25</th>\n",
       "      <td>부산시</td>\n",
       "      <td>553603860</td>\n",
       "      <td>60887</td>\n",
       "      <td>2021-02-05</td>\n",
       "      <td>26</td>\n",
       "    </tr>\n",
       "    <tr>\n",
       "      <th>26</th>\n",
       "      <td>부산시</td>\n",
       "      <td>571855100</td>\n",
       "      <td>62141</td>\n",
       "      <td>2021-02-12</td>\n",
       "      <td>27</td>\n",
       "    </tr>\n",
       "    <tr>\n",
       "      <th>27</th>\n",
       "      <td>부산시</td>\n",
       "      <td>460860670</td>\n",
       "      <td>52741</td>\n",
       "      <td>2021-02-19</td>\n",
       "      <td>28</td>\n",
       "    </tr>\n",
       "    <tr>\n",
       "      <th>28</th>\n",
       "      <td>부산시</td>\n",
       "      <td>539104860</td>\n",
       "      <td>59643</td>\n",
       "      <td>2021-02-26</td>\n",
       "      <td>29</td>\n",
       "    </tr>\n",
       "    <tr>\n",
       "      <th>29</th>\n",
       "      <td>부산시</td>\n",
       "      <td>513370590</td>\n",
       "      <td>56521</td>\n",
       "      <td>2021-03-05</td>\n",
       "      <td>30</td>\n",
       "    </tr>\n",
       "  </tbody>\n",
       "</table>\n",
       "</div>"
      ],
      "text/plain": [
       "     지역         매출액     관객수           주  주차\n",
       "0   부산시  1114537230  123943  2020-08-16   1\n",
       "1   부산시   618924290   71890  2020-08-23   2\n",
       "2   부산시   467448880   53630  2020-08-30   3\n",
       "3   부산시   401747560   45878  2020-09-06   4\n",
       "4   부산시   350543860   40374  2020-09-13   5\n",
       "5   부산시   369444420   43470  2020-09-20   6\n",
       "6   부산시  1270147320  137503  2020-09-27   7\n",
       "7   부산시   677889690   74197  2020-10-04   8\n",
       "8   부산시   425792690   46497  2020-10-11   9\n",
       "9   부산시   517480560   57976  2020-10-18  10\n",
       "10  부산시   610113200   72140  2020-10-25  11\n",
       "11  부산시   714585170   80006  2020-11-01  12\n",
       "12  부산시   709390750   79471  2020-11-08  13\n",
       "13  부산시   615709150   70033  2020-11-15  14\n",
       "14  부산시   418791390   49512  2020-11-22  15\n",
       "15  부산시   231147290   27151  2020-11-29  16\n",
       "16  부산시   179772960   20889  2020-12-06  17\n",
       "17  부산시   137530150   16161  2020-12-13  18\n",
       "18  부산시   263412500   30494  2020-12-20  19\n",
       "19  부산시   162778220   20138  2020-12-27  20\n",
       "20  부산시   133154520   15720  2021-01-01  21\n",
       "21  부산시    90327570   10890  2021-01-08  22\n",
       "22  부산시   139130900   16832  2021-01-15  23\n",
       "23  부산시   381529810   45703  2021-01-22  24\n",
       "24  부산시   467990770   52508  2021-01-29  25\n",
       "25  부산시   553603860   60887  2021-02-05  26\n",
       "26  부산시   571855100   62141  2021-02-12  27\n",
       "27  부산시   460860670   52741  2021-02-19  28\n",
       "28  부산시   539104860   59643  2021-02-26  29\n",
       "29  부산시   513370590   56521  2021-03-05  30"
      ]
     },
     "execution_count": 270,
     "metadata": {},
     "output_type": "execute_result"
    }
   ],
   "source": [
    "busan_bv\n",
    "busan_av=busan_av.reset_index(drop=True)"
   ]
  },
  {
   "cell_type": "code",
   "execution_count": 271,
   "id": "ef4ff514",
   "metadata": {},
   "outputs": [
    {
     "data": {
      "text/plain": [
       "<matplotlib.lines.Line2D at 0x12b267be490>"
      ]
     },
     "execution_count": 271,
     "metadata": {},
     "output_type": "execute_result"
    },
    {
     "data": {
      "text/plain": [
       "<matplotlib.legend.Legend at 0x12b23dd0a00>"
      ]
     },
     "execution_count": 271,
     "metadata": {},
     "output_type": "execute_result"
    },
    {
     "data": {
      "image/png": "[encoded data removed]",
      "text/plain": [
       "<Figure size 720x720 with 1 Axes>"
      ]
     },
     "metadata": {
      "needs_background": "light"
     },
     "output_type": "display_data"
    }
   ],
   "source": [
    "np.set_printoptions(precision=6, suppress=True)\n",
    "\n",
    "from matplotlib import pyplot as plt\n",
    "import numpy as np\n",
    "%matplotlib inline\n",
    "import seaborn as sns\n",
    "avr_2019=2929067941\n",
    "#산점도 + 회귀직선 비교\n",
    "\n",
    "fig = plt.figure(figsize = [10,10])\n",
    "plt.rcParams[\"font.family\"] = 'Malgun Gothic'\n",
    "plt.rcParams[\"font.size\"] = 12\n",
    "#ax = fig.add_subplot(111)\n",
    "# plt.axhline(int(avr_2019),0.05, 0.95, color = 'red', linestyle = '--',label='2019주평균' )\n",
    "plt.axvline(30,1, 0, color = 'red', linestyle = '--',label='접종시작주' )\n",
    "\n",
    "ax = sns.regplot(x='주차',y='매출액',data=busan_av,label='접종이후')\n",
    "ax = sns.regplot(x='주차',y='매출액',data=busan_bv,label='접종이전')\n",
    "ax.legend(loc='center')"
   ]
  },
  {
   "cell_type": "code",
   "execution_count": 272,
   "id": "e627fea4",
   "metadata": {},
   "outputs": [
    {
     "data": {
      "text/plain": [
       "<matplotlib.lines.Line2D at 0x12b2683a490>"
      ]
     },
     "execution_count": 272,
     "metadata": {},
     "output_type": "execute_result"
    },
    {
     "data": {
      "text/plain": [
       "<matplotlib.legend.Legend at 0x12b2550a5e0>"
      ]
     },
     "execution_count": 272,
     "metadata": {},
     "output_type": "execute_result"
    },
    {
     "data": {
      "image/png": "[encoded data removed]",
      "text/plain": [
       "<Figure size 720x720 with 1 Axes>"
      ]
     },
     "metadata": {
      "needs_background": "light"
     },
     "output_type": "display_data"
    }
   ],
   "source": [
    "\n",
    "#산점도 + 회귀직선 비교\n",
    "\n",
    "fig = plt.figure(figsize = [10,10])\n",
    "\n",
    "#ax = fig.add_subplot(111)\n",
    "#plt.axhline(int(avr_2019['매출액'][0]),0.05, 0.95, color = 'green', linestyle = '--',label='2019주평균' )\n",
    "\n",
    "plt.axvline(30,1, 0, color = 'red', linestyle = '--',label='접종시작주' )\n",
    "\n",
    "ax = sns.regplot(x='주차',y='매출액',data=busan_av,label='접종이후')\n",
    "ax = sns.regplot(x='주차',y='매출액',data=busan_bv,label='접종이전')\n",
    "ax.legend(loc='center')\n",
    "ax = plt.gca()\n",
    "ax.get_yaxis().get_major_formatter().set_scientific(False)"
   ]
  },
  {
   "cell_type": "markdown",
   "id": "2cdfa64c",
   "metadata": {},
   "source": [
    "## 주간 접종자수-매출액 상관분석"
   ]
  },
  {
   "cell_type": "code",
   "execution_count": 273,
   "id": "86c2ea24",
   "metadata": {},
   "outputs": [],
   "source": [
    "fin_busan=pd.read_csv('data/부산주간백신정보.csv').drop(\"Unnamed: 0\",axis=1)"
   ]
  },
  {
   "cell_type": "code",
   "execution_count": 274,
   "id": "868bb76d",
   "metadata": {},
   "outputs": [
    {
     "data": {
      "text/html": [
       "<div>\n",
       "<style scoped>\n",
       "    .dataframe tbody tr th:only-of-type {\n",
       "        vertical-align: middle;\n",
       "    }\n",
       "\n",
       "    .dataframe tbody tr th {\n",
       "        vertical-align: top;\n",
       "    }\n",
       "\n",
       "    .dataframe thead th {\n",
       "        text-align: right;\n",
       "    }\n",
       "</style>\n",
       "<table border=\"1\" class=\"dataframe\">\n",
       "  <thead>\n",
       "    <tr style=\"text-align: right;\">\n",
       "      <th></th>\n",
       "      <th>1차접종누계</th>\n",
       "      <th>2차접종누계</th>\n",
       "      <th>주간1차접종자수</th>\n",
       "      <th>주간2차접종자수</th>\n",
       "    </tr>\n",
       "  </thead>\n",
       "  <tbody>\n",
       "    <tr>\n",
       "      <th>0</th>\n",
       "      <td>50988</td>\n",
       "      <td>0</td>\n",
       "      <td>10943</td>\n",
       "      <td>0</td>\n",
       "    </tr>\n",
       "    <tr>\n",
       "      <th>1</th>\n",
       "      <td>60664</td>\n",
       "      <td>62</td>\n",
       "      <td>9676</td>\n",
       "      <td>62</td>\n",
       "    </tr>\n",
       "    <tr>\n",
       "      <th>2</th>\n",
       "      <td>73571</td>\n",
       "      <td>245</td>\n",
       "      <td>12907</td>\n",
       "      <td>183</td>\n",
       "    </tr>\n",
       "    <tr>\n",
       "      <th>3</th>\n",
       "      <td>83895</td>\n",
       "      <td>2388</td>\n",
       "      <td>10324</td>\n",
       "      <td>2143</td>\n",
       "    </tr>\n",
       "    <tr>\n",
       "      <th>4</th>\n",
       "      <td>96082</td>\n",
       "      <td>4161</td>\n",
       "      <td>12187</td>\n",
       "      <td>1773</td>\n",
       "    </tr>\n",
       "    <tr>\n",
       "      <th>5</th>\n",
       "      <td>121702</td>\n",
       "      <td>4161</td>\n",
       "      <td>25620</td>\n",
       "      <td>0</td>\n",
       "    </tr>\n",
       "    <tr>\n",
       "      <th>6</th>\n",
       "      <td>174943</td>\n",
       "      <td>8592</td>\n",
       "      <td>53241</td>\n",
       "      <td>4431</td>\n",
       "    </tr>\n",
       "    <tr>\n",
       "      <th>7</th>\n",
       "      <td>223997</td>\n",
       "      <td>18249</td>\n",
       "      <td>49054</td>\n",
       "      <td>9657</td>\n",
       "    </tr>\n",
       "    <tr>\n",
       "      <th>8</th>\n",
       "      <td>231495</td>\n",
       "      <td>32353</td>\n",
       "      <td>7498</td>\n",
       "      <td>14104</td>\n",
       "    </tr>\n",
       "    <tr>\n",
       "      <th>9</th>\n",
       "      <td>233540</td>\n",
       "      <td>60033</td>\n",
       "      <td>2045</td>\n",
       "      <td>27680</td>\n",
       "    </tr>\n",
       "    <tr>\n",
       "      <th>10</th>\n",
       "      <td>254350</td>\n",
       "      <td>118935</td>\n",
       "      <td>20810</td>\n",
       "      <td>58902</td>\n",
       "    </tr>\n",
       "    <tr>\n",
       "      <th>11</th>\n",
       "      <td>470503</td>\n",
       "      <td>132160</td>\n",
       "      <td>216153</td>\n",
       "      <td>13225</td>\n",
       "    </tr>\n",
       "    <tr>\n",
       "      <th>12</th>\n",
       "      <td>713446</td>\n",
       "      <td>141696</td>\n",
       "      <td>242943</td>\n",
       "      <td>9536</td>\n",
       "    </tr>\n",
       "    <tr>\n",
       "      <th>13</th>\n",
       "      <td>996171</td>\n",
       "      <td>230090</td>\n",
       "      <td>282725</td>\n",
       "      <td>88394</td>\n",
       "    </tr>\n",
       "    <tr>\n",
       "      <th>14</th>\n",
       "      <td>1089840</td>\n",
       "      <td>285163</td>\n",
       "      <td>93669</td>\n",
       "      <td>55073</td>\n",
       "    </tr>\n",
       "    <tr>\n",
       "      <th>15</th>\n",
       "      <td>1100426</td>\n",
       "      <td>326829</td>\n",
       "      <td>10586</td>\n",
       "      <td>41666</td>\n",
       "    </tr>\n",
       "  </tbody>\n",
       "</table>\n",
       "</div>"
      ],
      "text/plain": [
       "     1차접종누계  2차접종누계  주간1차접종자수  주간2차접종자수\n",
       "0     50988       0     10943         0\n",
       "1     60664      62      9676        62\n",
       "2     73571     245     12907       183\n",
       "3     83895    2388     10324      2143\n",
       "4     96082    4161     12187      1773\n",
       "5    121702    4161     25620         0\n",
       "6    174943    8592     53241      4431\n",
       "7    223997   18249     49054      9657\n",
       "8    231495   32353      7498     14104\n",
       "9    233540   60033      2045     27680\n",
       "10   254350  118935     20810     58902\n",
       "11   470503  132160    216153     13225\n",
       "12   713446  141696    242943      9536\n",
       "13   996171  230090    282725     88394\n",
       "14  1089840  285163     93669     55073\n",
       "15  1100426  326829     10586     41666"
      ]
     },
     "execution_count": 274,
     "metadata": {},
     "output_type": "execute_result"
    }
   ],
   "source": [
    "fin_busan.drop('일자',axis=1)"
   ]
  },
  {
   "cell_type": "code",
   "execution_count": 275,
   "id": "8f52c189",
   "metadata": {},
   "outputs": [],
   "source": [
    "# fin_df=pd.concat([busan_av,fin_busan],axis=1).drop('주차',axis=1)"
   ]
  },
  {
   "cell_type": "code",
   "execution_count": 276,
   "id": "3b5c0b31",
   "metadata": {},
   "outputs": [],
   "source": [
    "pd.options.display.float_format = '{:.2f}'.format\n",
    "fin_df = pd.concat([busan_av,fin_busan],axis=1).drop('주차',axis=1)"
   ]
  },
  {
   "cell_type": "code",
   "execution_count": 277,
   "id": "50e6b308",
   "metadata": {},
   "outputs": [
    {
     "data": {
      "text/html": [
       "<div>\n",
       "<style scoped>\n",
       "    .dataframe tbody tr th:only-of-type {\n",
       "        vertical-align: middle;\n",
       "    }\n",
       "\n",
       "    .dataframe tbody tr th {\n",
       "        vertical-align: top;\n",
       "    }\n",
       "\n",
       "    .dataframe thead th {\n",
       "        text-align: right;\n",
       "    }\n",
       "</style>\n",
       "<table border=\"1\" class=\"dataframe\">\n",
       "  <thead>\n",
       "    <tr style=\"text-align: right;\">\n",
       "      <th></th>\n",
       "      <th>지역</th>\n",
       "      <th>매출액</th>\n",
       "      <th>관객수</th>\n",
       "      <th>주</th>\n",
       "      <th>일자</th>\n",
       "      <th>1차접종누계</th>\n",
       "      <th>2차접종누계</th>\n",
       "      <th>주간1차접종자수</th>\n",
       "      <th>주간2차접종자수</th>\n",
       "    </tr>\n",
       "  </thead>\n",
       "  <tbody>\n",
       "    <tr>\n",
       "      <th>0</th>\n",
       "      <td>부산시</td>\n",
       "      <td>513370590</td>\n",
       "      <td>56521</td>\n",
       "      <td>2021-03-12</td>\n",
       "      <td>20210318</td>\n",
       "      <td>50988</td>\n",
       "      <td>0</td>\n",
       "      <td>10943</td>\n",
       "      <td>0</td>\n",
       "    </tr>\n",
       "    <tr>\n",
       "      <th>1</th>\n",
       "      <td>부산시</td>\n",
       "      <td>438756130</td>\n",
       "      <td>48866</td>\n",
       "      <td>2021-03-19</td>\n",
       "      <td>20210325</td>\n",
       "      <td>60664</td>\n",
       "      <td>62</td>\n",
       "      <td>9676</td>\n",
       "      <td>62</td>\n",
       "    </tr>\n",
       "    <tr>\n",
       "      <th>2</th>\n",
       "      <td>부산시</td>\n",
       "      <td>425217210</td>\n",
       "      <td>46215</td>\n",
       "      <td>2021-03-26</td>\n",
       "      <td>20210401</td>\n",
       "      <td>73571</td>\n",
       "      <td>245</td>\n",
       "      <td>12907</td>\n",
       "      <td>183</td>\n",
       "    </tr>\n",
       "    <tr>\n",
       "      <th>3</th>\n",
       "      <td>부산시</td>\n",
       "      <td>522446130</td>\n",
       "      <td>60290</td>\n",
       "      <td>2021-04-02</td>\n",
       "      <td>20210408</td>\n",
       "      <td>83895</td>\n",
       "      <td>2388</td>\n",
       "      <td>10324</td>\n",
       "      <td>2143</td>\n",
       "    </tr>\n",
       "    <tr>\n",
       "      <th>4</th>\n",
       "      <td>부산시</td>\n",
       "      <td>395182360</td>\n",
       "      <td>43284</td>\n",
       "      <td>2021-04-09</td>\n",
       "      <td>20210415</td>\n",
       "      <td>96082</td>\n",
       "      <td>4161</td>\n",
       "      <td>12187</td>\n",
       "      <td>1773</td>\n",
       "    </tr>\n",
       "    <tr>\n",
       "      <th>5</th>\n",
       "      <td>부산시</td>\n",
       "      <td>314571750</td>\n",
       "      <td>35267</td>\n",
       "      <td>2021-04-16</td>\n",
       "      <td>20210422</td>\n",
       "      <td>121702</td>\n",
       "      <td>4161</td>\n",
       "      <td>25620</td>\n",
       "      <td>0</td>\n",
       "    </tr>\n",
       "    <tr>\n",
       "      <th>6</th>\n",
       "      <td>부산시</td>\n",
       "      <td>390483590</td>\n",
       "      <td>42905</td>\n",
       "      <td>2021-04-23</td>\n",
       "      <td>20210429</td>\n",
       "      <td>174943</td>\n",
       "      <td>8592</td>\n",
       "      <td>53241</td>\n",
       "      <td>4431</td>\n",
       "    </tr>\n",
       "    <tr>\n",
       "      <th>7</th>\n",
       "      <td>부산시</td>\n",
       "      <td>445720640</td>\n",
       "      <td>51929</td>\n",
       "      <td>2021-04-30</td>\n",
       "      <td>20210506</td>\n",
       "      <td>223997</td>\n",
       "      <td>18249</td>\n",
       "      <td>49054</td>\n",
       "      <td>9657</td>\n",
       "    </tr>\n",
       "    <tr>\n",
       "      <th>8</th>\n",
       "      <td>부산시</td>\n",
       "      <td>656383270</td>\n",
       "      <td>73087</td>\n",
       "      <td>2021-05-07</td>\n",
       "      <td>20210513</td>\n",
       "      <td>231495</td>\n",
       "      <td>32353</td>\n",
       "      <td>7498</td>\n",
       "      <td>14104</td>\n",
       "    </tr>\n",
       "    <tr>\n",
       "      <th>9</th>\n",
       "      <td>부산시</td>\n",
       "      <td>321925980</td>\n",
       "      <td>35956</td>\n",
       "      <td>2021-05-14</td>\n",
       "      <td>20210520</td>\n",
       "      <td>233540</td>\n",
       "      <td>60033</td>\n",
       "      <td>2045</td>\n",
       "      <td>27680</td>\n",
       "    </tr>\n",
       "    <tr>\n",
       "      <th>10</th>\n",
       "      <td>부산시</td>\n",
       "      <td>691293590</td>\n",
       "      <td>74418</td>\n",
       "      <td>2021-05-21</td>\n",
       "      <td>20210527</td>\n",
       "      <td>254350</td>\n",
       "      <td>118935</td>\n",
       "      <td>20810</td>\n",
       "      <td>58902</td>\n",
       "    </tr>\n",
       "    <tr>\n",
       "      <th>11</th>\n",
       "      <td>부산시</td>\n",
       "      <td>814105630</td>\n",
       "      <td>90495</td>\n",
       "      <td>2021-05-28</td>\n",
       "      <td>20210603</td>\n",
       "      <td>470503</td>\n",
       "      <td>132160</td>\n",
       "      <td>216153</td>\n",
       "      <td>13225</td>\n",
       "    </tr>\n",
       "    <tr>\n",
       "      <th>12</th>\n",
       "      <td>부산시</td>\n",
       "      <td>733089700</td>\n",
       "      <td>79243</td>\n",
       "      <td>2021-06-04</td>\n",
       "      <td>20210610</td>\n",
       "      <td>713446</td>\n",
       "      <td>141696</td>\n",
       "      <td>242943</td>\n",
       "      <td>9536</td>\n",
       "    </tr>\n",
       "    <tr>\n",
       "      <th>13</th>\n",
       "      <td>부산시</td>\n",
       "      <td>780069950</td>\n",
       "      <td>82722</td>\n",
       "      <td>2021-06-11</td>\n",
       "      <td>20210617</td>\n",
       "      <td>996171</td>\n",
       "      <td>230090</td>\n",
       "      <td>282725</td>\n",
       "      <td>88394</td>\n",
       "    </tr>\n",
       "    <tr>\n",
       "      <th>14</th>\n",
       "      <td>부산시</td>\n",
       "      <td>679511920</td>\n",
       "      <td>71450</td>\n",
       "      <td>2021-06-18</td>\n",
       "      <td>20210624</td>\n",
       "      <td>1089840</td>\n",
       "      <td>285163</td>\n",
       "      <td>93669</td>\n",
       "      <td>55073</td>\n",
       "    </tr>\n",
       "    <tr>\n",
       "      <th>15</th>\n",
       "      <td>부산시</td>\n",
       "      <td>858280140</td>\n",
       "      <td>89771</td>\n",
       "      <td>2021-06-25</td>\n",
       "      <td>20210630</td>\n",
       "      <td>1100426</td>\n",
       "      <td>326829</td>\n",
       "      <td>10586</td>\n",
       "      <td>41666</td>\n",
       "    </tr>\n",
       "  </tbody>\n",
       "</table>\n",
       "</div>"
      ],
      "text/plain": [
       "     지역        매출액    관객수           주        일자   1차접종누계  2차접종누계  주간1차접종자수  \\\n",
       "0   부산시  513370590  56521  2021-03-12  20210318    50988       0     10943   \n",
       "1   부산시  438756130  48866  2021-03-19  20210325    60664      62      9676   \n",
       "2   부산시  425217210  46215  2021-03-26  20210401    73571     245     12907   \n",
       "3   부산시  522446130  60290  2021-04-02  20210408    83895    2388     10324   \n",
       "4   부산시  395182360  43284  2021-04-09  20210415    96082    4161     12187   \n",
       "5   부산시  314571750  35267  2021-04-16  20210422   121702    4161     25620   \n",
       "6   부산시  390483590  42905  2021-04-23  20210429   174943    8592     53241   \n",
       "7   부산시  445720640  51929  2021-04-30  20210506   223997   18249     49054   \n",
       "8   부산시  656383270  73087  2021-05-07  20210513   231495   32353      7498   \n",
       "9   부산시  321925980  35956  2021-05-14  20210520   233540   60033      2045   \n",
       "10  부산시  691293590  74418  2021-05-21  20210527   254350  118935     20810   \n",
       "11  부산시  814105630  90495  2021-05-28  20210603   470503  132160    216153   \n",
       "12  부산시  733089700  79243  2021-06-04  20210610   713446  141696    242943   \n",
       "13  부산시  780069950  82722  2021-06-11  20210617   996171  230090    282725   \n",
       "14  부산시  679511920  71450  2021-06-18  20210624  1089840  285163     93669   \n",
       "15  부산시  858280140  89771  2021-06-25  20210630  1100426  326829     10586   \n",
       "\n",
       "    주간2차접종자수  \n",
       "0          0  \n",
       "1         62  \n",
       "2        183  \n",
       "3       2143  \n",
       "4       1773  \n",
       "5          0  \n",
       "6       4431  \n",
       "7       9657  \n",
       "8      14104  \n",
       "9      27680  \n",
       "10     58902  \n",
       "11     13225  \n",
       "12      9536  \n",
       "13     88394  \n",
       "14     55073  \n",
       "15     41666  "
      ]
     },
     "execution_count": 277,
     "metadata": {},
     "output_type": "execute_result"
    }
   ],
   "source": [
    "fin_df"
   ]
  },
  {
   "cell_type": "code",
   "execution_count": 278,
   "id": "d40d4001",
   "metadata": {},
   "outputs": [],
   "source": [
    "fin_df['주간접종자합계']=fin_df['주간1차접종자수']+fin_df['주간2차접종자수']\n",
    "fin_df['누적접종자합계']=fin_df['1차접종누계']+fin_df['2차접종누계']\n"
   ]
  },
  {
   "cell_type": "code",
   "execution_count": 279,
   "id": "de9c6068",
   "metadata": {},
   "outputs": [],
   "source": [
    "fin_df = fin_df[['지역','주',\n",
    "                     '매출액',\n",
    "                     '관객수',\n",
    "                     '1차접종누계',\n",
    "                     '2차접종누계',\n",
    "                     '누적접종자합계',\n",
    "                     '주간1차접종자수',\n",
    "                     '주간2차접종자수',\n",
    "                     '주간접종자합계']]"
   ]
  },
  {
   "cell_type": "code",
   "execution_count": 280,
   "id": "b0d03363",
   "metadata": {
    "scrolled": true
   },
   "outputs": [
    {
     "data": {
      "text/html": [
       "<div>\n",
       "<style scoped>\n",
       "    .dataframe tbody tr th:only-of-type {\n",
       "        vertical-align: middle;\n",
       "    }\n",
       "\n",
       "    .dataframe tbody tr th {\n",
       "        vertical-align: top;\n",
       "    }\n",
       "\n",
       "    .dataframe thead th {\n",
       "        text-align: right;\n",
       "    }\n",
       "</style>\n",
       "<table border=\"1\" class=\"dataframe\">\n",
       "  <thead>\n",
       "    <tr style=\"text-align: right;\">\n",
       "      <th></th>\n",
       "      <th>지역</th>\n",
       "      <th>주</th>\n",
       "      <th>매출액</th>\n",
       "      <th>관객수</th>\n",
       "      <th>1차접종누계</th>\n",
       "      <th>2차접종누계</th>\n",
       "      <th>누적접종자합계</th>\n",
       "      <th>주간1차접종자수</th>\n",
       "      <th>주간2차접종자수</th>\n",
       "      <th>주간접종자합계</th>\n",
       "    </tr>\n",
       "  </thead>\n",
       "  <tbody>\n",
       "    <tr>\n",
       "      <th>0</th>\n",
       "      <td>부산시</td>\n",
       "      <td>2021-03-12</td>\n",
       "      <td>513370590</td>\n",
       "      <td>56521</td>\n",
       "      <td>50988</td>\n",
       "      <td>0</td>\n",
       "      <td>50988</td>\n",
       "      <td>10943</td>\n",
       "      <td>0</td>\n",
       "      <td>10943</td>\n",
       "    </tr>\n",
       "    <tr>\n",
       "      <th>1</th>\n",
       "      <td>부산시</td>\n",
       "      <td>2021-03-19</td>\n",
       "      <td>438756130</td>\n",
       "      <td>48866</td>\n",
       "      <td>60664</td>\n",
       "      <td>62</td>\n",
       "      <td>60726</td>\n",
       "      <td>9676</td>\n",
       "      <td>62</td>\n",
       "      <td>9738</td>\n",
       "    </tr>\n",
       "    <tr>\n",
       "      <th>2</th>\n",
       "      <td>부산시</td>\n",
       "      <td>2021-03-26</td>\n",
       "      <td>425217210</td>\n",
       "      <td>46215</td>\n",
       "      <td>73571</td>\n",
       "      <td>245</td>\n",
       "      <td>73816</td>\n",
       "      <td>12907</td>\n",
       "      <td>183</td>\n",
       "      <td>13090</td>\n",
       "    </tr>\n",
       "    <tr>\n",
       "      <th>3</th>\n",
       "      <td>부산시</td>\n",
       "      <td>2021-04-02</td>\n",
       "      <td>522446130</td>\n",
       "      <td>60290</td>\n",
       "      <td>83895</td>\n",
       "      <td>2388</td>\n",
       "      <td>86283</td>\n",
       "      <td>10324</td>\n",
       "      <td>2143</td>\n",
       "      <td>12467</td>\n",
       "    </tr>\n",
       "    <tr>\n",
       "      <th>4</th>\n",
       "      <td>부산시</td>\n",
       "      <td>2021-04-09</td>\n",
       "      <td>395182360</td>\n",
       "      <td>43284</td>\n",
       "      <td>96082</td>\n",
       "      <td>4161</td>\n",
       "      <td>100243</td>\n",
       "      <td>12187</td>\n",
       "      <td>1773</td>\n",
       "      <td>13960</td>\n",
       "    </tr>\n",
       "    <tr>\n",
       "      <th>5</th>\n",
       "      <td>부산시</td>\n",
       "      <td>2021-04-16</td>\n",
       "      <td>314571750</td>\n",
       "      <td>35267</td>\n",
       "      <td>121702</td>\n",
       "      <td>4161</td>\n",
       "      <td>125863</td>\n",
       "      <td>25620</td>\n",
       "      <td>0</td>\n",
       "      <td>25620</td>\n",
       "    </tr>\n",
       "    <tr>\n",
       "      <th>6</th>\n",
       "      <td>부산시</td>\n",
       "      <td>2021-04-23</td>\n",
       "      <td>390483590</td>\n",
       "      <td>42905</td>\n",
       "      <td>174943</td>\n",
       "      <td>8592</td>\n",
       "      <td>183535</td>\n",
       "      <td>53241</td>\n",
       "      <td>4431</td>\n",
       "      <td>57672</td>\n",
       "    </tr>\n",
       "    <tr>\n",
       "      <th>7</th>\n",
       "      <td>부산시</td>\n",
       "      <td>2021-04-30</td>\n",
       "      <td>445720640</td>\n",
       "      <td>51929</td>\n",
       "      <td>223997</td>\n",
       "      <td>18249</td>\n",
       "      <td>242246</td>\n",
       "      <td>49054</td>\n",
       "      <td>9657</td>\n",
       "      <td>58711</td>\n",
       "    </tr>\n",
       "    <tr>\n",
       "      <th>8</th>\n",
       "      <td>부산시</td>\n",
       "      <td>2021-05-07</td>\n",
       "      <td>656383270</td>\n",
       "      <td>73087</td>\n",
       "      <td>231495</td>\n",
       "      <td>32353</td>\n",
       "      <td>263848</td>\n",
       "      <td>7498</td>\n",
       "      <td>14104</td>\n",
       "      <td>21602</td>\n",
       "    </tr>\n",
       "    <tr>\n",
       "      <th>9</th>\n",
       "      <td>부산시</td>\n",
       "      <td>2021-05-14</td>\n",
       "      <td>321925980</td>\n",
       "      <td>35956</td>\n",
       "      <td>233540</td>\n",
       "      <td>60033</td>\n",
       "      <td>293573</td>\n",
       "      <td>2045</td>\n",
       "      <td>27680</td>\n",
       "      <td>29725</td>\n",
       "    </tr>\n",
       "    <tr>\n",
       "      <th>10</th>\n",
       "      <td>부산시</td>\n",
       "      <td>2021-05-21</td>\n",
       "      <td>691293590</td>\n",
       "      <td>74418</td>\n",
       "      <td>254350</td>\n",
       "      <td>118935</td>\n",
       "      <td>373285</td>\n",
       "      <td>20810</td>\n",
       "      <td>58902</td>\n",
       "      <td>79712</td>\n",
       "    </tr>\n",
       "    <tr>\n",
       "      <th>11</th>\n",
       "      <td>부산시</td>\n",
       "      <td>2021-05-28</td>\n",
       "      <td>814105630</td>\n",
       "      <td>90495</td>\n",
       "      <td>470503</td>\n",
       "      <td>132160</td>\n",
       "      <td>602663</td>\n",
       "      <td>216153</td>\n",
       "      <td>13225</td>\n",
       "      <td>229378</td>\n",
       "    </tr>\n",
       "    <tr>\n",
       "      <th>12</th>\n",
       "      <td>부산시</td>\n",
       "      <td>2021-06-04</td>\n",
       "      <td>733089700</td>\n",
       "      <td>79243</td>\n",
       "      <td>713446</td>\n",
       "      <td>141696</td>\n",
       "      <td>855142</td>\n",
       "      <td>242943</td>\n",
       "      <td>9536</td>\n",
       "      <td>252479</td>\n",
       "    </tr>\n",
       "    <tr>\n",
       "      <th>13</th>\n",
       "      <td>부산시</td>\n",
       "      <td>2021-06-11</td>\n",
       "      <td>780069950</td>\n",
       "      <td>82722</td>\n",
       "      <td>996171</td>\n",
       "      <td>230090</td>\n",
       "      <td>1226261</td>\n",
       "      <td>282725</td>\n",
       "      <td>88394</td>\n",
       "      <td>371119</td>\n",
       "    </tr>\n",
       "    <tr>\n",
       "      <th>14</th>\n",
       "      <td>부산시</td>\n",
       "      <td>2021-06-18</td>\n",
       "      <td>679511920</td>\n",
       "      <td>71450</td>\n",
       "      <td>1089840</td>\n",
       "      <td>285163</td>\n",
       "      <td>1375003</td>\n",
       "      <td>93669</td>\n",
       "      <td>55073</td>\n",
       "      <td>148742</td>\n",
       "    </tr>\n",
       "    <tr>\n",
       "      <th>15</th>\n",
       "      <td>부산시</td>\n",
       "      <td>2021-06-25</td>\n",
       "      <td>858280140</td>\n",
       "      <td>89771</td>\n",
       "      <td>1100426</td>\n",
       "      <td>326829</td>\n",
       "      <td>1427255</td>\n",
       "      <td>10586</td>\n",
       "      <td>41666</td>\n",
       "      <td>52252</td>\n",
       "    </tr>\n",
       "  </tbody>\n",
       "</table>\n",
       "</div>"
      ],
      "text/plain": [
       "     지역           주        매출액    관객수   1차접종누계  2차접종누계  누적접종자합계  주간1차접종자수  \\\n",
       "0   부산시  2021-03-12  513370590  56521    50988       0    50988     10943   \n",
       "1   부산시  2021-03-19  438756130  48866    60664      62    60726      9676   \n",
       "2   부산시  2021-03-26  425217210  46215    73571     245    73816     12907   \n",
       "3   부산시  2021-04-02  522446130  60290    83895    2388    86283     10324   \n",
       "4   부산시  2021-04-09  395182360  43284    96082    4161   100243     12187   \n",
       "5   부산시  2021-04-16  314571750  35267   121702    4161   125863     25620   \n",
       "6   부산시  2021-04-23  390483590  42905   174943    8592   183535     53241   \n",
       "7   부산시  2021-04-30  445720640  51929   223997   18249   242246     49054   \n",
       "8   부산시  2021-05-07  656383270  73087   231495   32353   263848      7498   \n",
       "9   부산시  2021-05-14  321925980  35956   233540   60033   293573      2045   \n",
       "10  부산시  2021-05-21  691293590  74418   254350  118935   373285     20810   \n",
       "11  부산시  2021-05-28  814105630  90495   470503  132160   602663    216153   \n",
       "12  부산시  2021-06-04  733089700  79243   713446  141696   855142    242943   \n",
       "13  부산시  2021-06-11  780069950  82722   996171  230090  1226261    282725   \n",
       "14  부산시  2021-06-18  679511920  71450  1089840  285163  1375003     93669   \n",
       "15  부산시  2021-06-25  858280140  89771  1100426  326829  1427255     10586   \n",
       "\n",
       "    주간2차접종자수  주간접종자합계  \n",
       "0          0    10943  \n",
       "1         62     9738  \n",
       "2        183    13090  \n",
       "3       2143    12467  \n",
       "4       1773    13960  \n",
       "5          0    25620  \n",
       "6       4431    57672  \n",
       "7       9657    58711  \n",
       "8      14104    21602  \n",
       "9      27680    29725  \n",
       "10     58902    79712  \n",
       "11     13225   229378  \n",
       "12      9536   252479  \n",
       "13     88394   371119  \n",
       "14     55073   148742  \n",
       "15     41666    52252  "
      ]
     },
     "execution_count": 280,
     "metadata": {},
     "output_type": "execute_result"
    }
   ],
   "source": [
    "fin_df"
   ]
  },
  {
   "cell_type": "code",
   "execution_count": 281,
   "id": "c7fa9518",
   "metadata": {},
   "outputs": [],
   "source": [
    "#string type을 datetime형으로 변환\n",
    "busan_bv['주'] = [datetime.strptime(i,\"%Y-%m-%d\") for i in busan_bv['주']]\n",
    "busan_av['주'] = [datetime.strptime(i,\"%Y-%m-%d\") for i in busan_av['주']]"
   ]
  },
  {
   "cell_type": "code",
   "execution_count": 282,
   "id": "907c6bcc",
   "metadata": {},
   "outputs": [
    {
     "data": {
      "text/plain": [
       "<matplotlib.collections.PathCollection at 0x12b268b3d60>"
      ]
     },
     "execution_count": 282,
     "metadata": {},
     "output_type": "execute_result"
    },
    {
     "data": {
      "text/plain": [
       "<matplotlib.collections.PathCollection at 0x12b268c62b0>"
      ]
     },
     "execution_count": 282,
     "metadata": {},
     "output_type": "execute_result"
    },
    {
     "data": {
      "text/plain": [
       "<matplotlib.collections.PathCollection at 0x12b268c6610>"
      ]
     },
     "execution_count": 282,
     "metadata": {},
     "output_type": "execute_result"
    },
    {
     "data": {
      "text/plain": [
       "Text(0, 0.5, '%')"
      ]
     },
     "execution_count": 282,
     "metadata": {},
     "output_type": "execute_result"
    },
    {
     "data": {
      "text/plain": [
       "<matplotlib.legend.Legend at 0x12b268b3fd0>"
      ]
     },
     "execution_count": 282,
     "metadata": {},
     "output_type": "execute_result"
    },
    {
     "data": {
      "image/png": "[encoded data removed]",
      "text/plain": [
       "<Figure size 720x720 with 1 Axes>"
      ]
     },
     "metadata": {
      "needs_background": "light"
     },
     "output_type": "display_data"
    }
   ],
   "source": [
    "plt.rcParams[\"figure.figsize\"] = (10, 10)\n",
    "plt.rcParams[\"font.family\"] = 'Malgun Gothic'\n",
    "plt.rcParams[\"font.size\"] = 12\n",
    "plt.scatter(fin_df['주'], fin_df['매출액']/avg_2019*100 ,label='19년 대비 매출액비율 (%)')\n",
    "plt.scatter(fin_df['주'], fin_df['누적접종자합계']/3410352*100 ,label='누적접종율 (%)')\n",
    "plt.scatter(fin_df['주'], fin_df['주간접종자합계']/3410352*100,label='주간접종률 (%)')\n",
    "plt.ylabel('%')\n",
    "plt.legend(loc='best')"
   ]
  },
  {
   "cell_type": "code",
   "execution_count": 283,
   "id": "913b6eed",
   "metadata": {},
   "outputs": [
    {
     "data": {
      "text/plain": [
       "<matplotlib.collections.PathCollection at 0x12b26925f40>"
      ]
     },
     "execution_count": 283,
     "metadata": {},
     "output_type": "execute_result"
    },
    {
     "data": {
      "text/plain": [
       "Text(0.5, 1.0, '매출액 , 누적접종률 산점도')"
      ]
     },
     "execution_count": 283,
     "metadata": {},
     "output_type": "execute_result"
    },
    {
     "data": {
      "text/plain": [
       "Text(0.5, 0, '매출액(억)')"
      ]
     },
     "execution_count": 283,
     "metadata": {},
     "output_type": "execute_result"
    },
    {
     "data": {
      "text/plain": [
       "Text(0, 0.5, '누적접종률(%)')"
      ]
     },
     "execution_count": 283,
     "metadata": {},
     "output_type": "execute_result"
    },
    {
     "data": {
      "image/png": "[encoded data removed]",
      "text/plain": [
       "<Figure size 720x432 with 1 Axes>"
      ]
     },
     "metadata": {
      "needs_background": "light"
     },
     "output_type": "display_data"
    }
   ],
   "source": [
    "#누적접종률 - 2019년 대비 매출액 매출액 산점도\n",
    "plt.rcParams[\"figure.figsize\"] = (10, 6)\n",
    "plt.scatter(fin_df['매출액']/100000000, fin_df['누적접종자합계']/3410352*100)\n",
    "plt.title('매출액 , 누적접종률 산점도')\n",
    "\n",
    "plt.xlabel('매출액(억)')\n",
    "plt.ylabel('누적접종률(%)')\n",
    "\n",
    "ax = plt.gca()\n",
    "ax.get_yaxis().get_major_formatter().set_scientific(False)\n",
    "ax.get_xaxis().get_major_formatter().set_scientific(False)"
   ]
  },
  {
   "cell_type": "code",
   "execution_count": 284,
   "id": "bd4de162",
   "metadata": {},
   "outputs": [
    {
     "data": {
      "text/plain": [
       "<matplotlib.collections.PathCollection at 0x12b26ce67c0>"
      ]
     },
     "execution_count": 284,
     "metadata": {},
     "output_type": "execute_result"
    },
    {
     "data": {
      "text/plain": [
       "Text(0.5, 1.0, '매출액, 주간접종률 산점도')"
      ]
     },
     "execution_count": 284,
     "metadata": {},
     "output_type": "execute_result"
    },
    {
     "data": {
      "text/plain": [
       "Text(0.5, 0, '매출액(억)')"
      ]
     },
     "execution_count": 284,
     "metadata": {},
     "output_type": "execute_result"
    },
    {
     "data": {
      "text/plain": [
       "Text(0, 0.5, '주간접종률(%)')"
      ]
     },
     "execution_count": 284,
     "metadata": {},
     "output_type": "execute_result"
    },
    {
     "data": {
      "image/png": "[encoded data removed]",
      "text/plain": [
       "<Figure size 720x432 with 1 Axes>"
      ]
     },
     "metadata": {
      "needs_background": "light"
     },
     "output_type": "display_data"
    }
   ],
   "source": [
    "#주간접종률 - 2019년 대비 매출액 매출액 산점도\n",
    "plt.scatter(fin_df['매출액']/100000000, fin_df['주간접종자합계']/9828094*100)\n",
    "plt.title('매출액, 주간접종률 산점도')\n",
    "\n",
    "ax = plt.gca()\n",
    "ax.get_yaxis().get_major_formatter().set_scientific(False)\n",
    "plt.xlabel('매출액(억)')\n",
    "plt.ylabel('주간접종률(%)')\n",
    "\n",
    "ax = plt.gca()\n",
    "ax.get_yaxis().get_major_formatter().set_scientific(False)\n",
    "ax.get_xaxis().get_major_formatter().set_scientific(False)"
   ]
  },
  {
   "cell_type": "code",
   "execution_count": 285,
   "id": "aa88f4e6",
   "metadata": {},
   "outputs": [],
   "source": [
    "fin_df_modi = fin_df.loc[:,['매출액','누적접종자합계','주간접종자합계']]\n",
    "\n",
    "\n",
    "fin_df_modi['누적접종자합계'] = fin_df_modi['누적접종자합계']/9828094*100\n",
    "fin_df_modi['주간접종자합계'] = fin_df_modi['주간접종자합계']/9828094*100\n",
    "\n",
    "fin_df_modi.rename(columns={\n",
    "                              '누적접종자합계':'누적접종률(%)',\n",
    "                              '주간접종자합계':'주간접종률(%)'}, inplace = True)"
   ]
  },
  {
   "cell_type": "code",
   "execution_count": 286,
   "id": "961052c1",
   "metadata": {},
   "outputs": [
    {
     "data": {
      "text/html": [
       "<div>\n",
       "<style scoped>\n",
       "    .dataframe tbody tr th:only-of-type {\n",
       "        vertical-align: middle;\n",
       "    }\n",
       "\n",
       "    .dataframe tbody tr th {\n",
       "        vertical-align: top;\n",
       "    }\n",
       "\n",
       "    .dataframe thead th {\n",
       "        text-align: right;\n",
       "    }\n",
       "</style>\n",
       "<table border=\"1\" class=\"dataframe\">\n",
       "  <thead>\n",
       "    <tr style=\"text-align: right;\">\n",
       "      <th></th>\n",
       "      <th>매출액</th>\n",
       "      <th>누적접종률(%)</th>\n",
       "      <th>주간접종률(%)</th>\n",
       "    </tr>\n",
       "  </thead>\n",
       "  <tbody>\n",
       "    <tr>\n",
       "      <th>0</th>\n",
       "      <td>513370590</td>\n",
       "      <td>0.52</td>\n",
       "      <td>0.11</td>\n",
       "    </tr>\n",
       "    <tr>\n",
       "      <th>1</th>\n",
       "      <td>438756130</td>\n",
       "      <td>0.62</td>\n",
       "      <td>0.10</td>\n",
       "    </tr>\n",
       "    <tr>\n",
       "      <th>2</th>\n",
       "      <td>425217210</td>\n",
       "      <td>0.75</td>\n",
       "      <td>0.13</td>\n",
       "    </tr>\n",
       "    <tr>\n",
       "      <th>3</th>\n",
       "      <td>522446130</td>\n",
       "      <td>0.88</td>\n",
       "      <td>0.13</td>\n",
       "    </tr>\n",
       "    <tr>\n",
       "      <th>4</th>\n",
       "      <td>395182360</td>\n",
       "      <td>1.02</td>\n",
       "      <td>0.14</td>\n",
       "    </tr>\n",
       "    <tr>\n",
       "      <th>5</th>\n",
       "      <td>314571750</td>\n",
       "      <td>1.28</td>\n",
       "      <td>0.26</td>\n",
       "    </tr>\n",
       "    <tr>\n",
       "      <th>6</th>\n",
       "      <td>390483590</td>\n",
       "      <td>1.87</td>\n",
       "      <td>0.59</td>\n",
       "    </tr>\n",
       "    <tr>\n",
       "      <th>7</th>\n",
       "      <td>445720640</td>\n",
       "      <td>2.46</td>\n",
       "      <td>0.60</td>\n",
       "    </tr>\n",
       "    <tr>\n",
       "      <th>8</th>\n",
       "      <td>656383270</td>\n",
       "      <td>2.68</td>\n",
       "      <td>0.22</td>\n",
       "    </tr>\n",
       "    <tr>\n",
       "      <th>9</th>\n",
       "      <td>321925980</td>\n",
       "      <td>2.99</td>\n",
       "      <td>0.30</td>\n",
       "    </tr>\n",
       "    <tr>\n",
       "      <th>10</th>\n",
       "      <td>691293590</td>\n",
       "      <td>3.80</td>\n",
       "      <td>0.81</td>\n",
       "    </tr>\n",
       "    <tr>\n",
       "      <th>11</th>\n",
       "      <td>814105630</td>\n",
       "      <td>6.13</td>\n",
       "      <td>2.33</td>\n",
       "    </tr>\n",
       "    <tr>\n",
       "      <th>12</th>\n",
       "      <td>733089700</td>\n",
       "      <td>8.70</td>\n",
       "      <td>2.57</td>\n",
       "    </tr>\n",
       "    <tr>\n",
       "      <th>13</th>\n",
       "      <td>780069950</td>\n",
       "      <td>12.48</td>\n",
       "      <td>3.78</td>\n",
       "    </tr>\n",
       "    <tr>\n",
       "      <th>14</th>\n",
       "      <td>679511920</td>\n",
       "      <td>13.99</td>\n",
       "      <td>1.51</td>\n",
       "    </tr>\n",
       "    <tr>\n",
       "      <th>15</th>\n",
       "      <td>858280140</td>\n",
       "      <td>14.52</td>\n",
       "      <td>0.53</td>\n",
       "    </tr>\n",
       "  </tbody>\n",
       "</table>\n",
       "</div>"
      ],
      "text/plain": [
       "          매출액  누적접종률(%)  주간접종률(%)\n",
       "0   513370590      0.52      0.11\n",
       "1   438756130      0.62      0.10\n",
       "2   425217210      0.75      0.13\n",
       "3   522446130      0.88      0.13\n",
       "4   395182360      1.02      0.14\n",
       "5   314571750      1.28      0.26\n",
       "6   390483590      1.87      0.59\n",
       "7   445720640      2.46      0.60\n",
       "8   656383270      2.68      0.22\n",
       "9   321925980      2.99      0.30\n",
       "10  691293590      3.80      0.81\n",
       "11  814105630      6.13      2.33\n",
       "12  733089700      8.70      2.57\n",
       "13  780069950     12.48      3.78\n",
       "14  679511920     13.99      1.51\n",
       "15  858280140     14.52      0.53"
      ]
     },
     "execution_count": 286,
     "metadata": {},
     "output_type": "execute_result"
    }
   ],
   "source": [
    "fin_df_modi"
   ]
  },
  {
   "cell_type": "code",
   "execution_count": 287,
   "id": "ea776a32",
   "metadata": {
    "scrolled": false
   },
   "outputs": [
    {
     "data": {
      "text/plain": [
       "array([[<AxesSubplot:xlabel='매출액', ylabel='매출액'>,\n",
       "        <AxesSubplot:xlabel='누적접종률(%)', ylabel='매출액'>,\n",
       "        <AxesSubplot:xlabel='주간접종률(%)', ylabel='매출액'>],\n",
       "       [<AxesSubplot:xlabel='매출액', ylabel='누적접종률(%)'>,\n",
       "        <AxesSubplot:xlabel='누적접종률(%)', ylabel='누적접종률(%)'>,\n",
       "        <AxesSubplot:xlabel='주간접종률(%)', ylabel='누적접종률(%)'>],\n",
       "       [<AxesSubplot:xlabel='매출액', ylabel='주간접종률(%)'>,\n",
       "        <AxesSubplot:xlabel='누적접종률(%)', ylabel='주간접종률(%)'>,\n",
       "        <AxesSubplot:xlabel='주간접종률(%)', ylabel='주간접종률(%)'>]], dtype=object)"
      ]
     },
     "execution_count": 287,
     "metadata": {},
     "output_type": "execute_result"
    },
    {
     "data": {
      "image/png": "[encoded data removed]",
      "text/plain": [
       "<Figure size 720x720 with 9 Axes>"
      ]
     },
     "metadata": {
      "needs_background": "light"
     },
     "output_type": "display_data"
    }
   ],
   "source": [
    "plt.rcParams[\"figure.figsize\"] = (10, 10)\n",
    "plt.rcParams[\"font.family\"] = 'Malgun Gothic'\n",
    "plt.rcParams[\"font.size\"] = 12\n",
    "pd.plotting.scatter_matrix(fin_df_modi)"
   ]
  },
  {
   "cell_type": "code",
   "execution_count": 288,
   "id": "dc72ea83",
   "metadata": {},
   "outputs": [],
   "source": [
    "# 한글 문제\n",
    "# matplotlit의 기본 폰트에서 한글 지원되지 않기 때문에\n",
    "# matplotlib의 폰트 변경 필요\n",
    "import platform\n",
    "\n",
    "from matplotlib import font_manager, rc\n",
    "plt.rcParams['axes.unicode_minus'] = False\n",
    "\n",
    "if platform.system() == 'Windows':  # 윈도우\n",
    "    path = \"c:/Windows/Fonts/malgun.ttf\"\n",
    "    font_name = font_manager.FontProperties(fname=path).get_name()\n",
    "    rc('font', family=font_name)\n",
    "else:\n",
    "    print('Unknown system...  sorry~~~')"
   ]
  },
  {
   "cell_type": "code",
   "execution_count": 289,
   "id": "f69c9583",
   "metadata": {},
   "outputs": [
    {
     "data": {
      "text/plain": [
       "<seaborn.axisgrid.PairGrid at 0x12b26955850>"
      ]
     },
     "execution_count": 289,
     "metadata": {},
     "output_type": "execute_result"
    },
    {
     "data": {
      "image/png": "[encoded data removed]",
      "text/plain": [
       "<Figure size 540x540 with 12 Axes>"
      ]
     },
     "metadata": {
      "needs_background": "light"
     },
     "output_type": "display_data"
    }
   ],
   "source": [
    "# 한글 문제\n",
    "# matplotlit의 기본 폰트에서 한글 지원되지 않기 때문에\n",
    "# matplotlib의 폰트 변경 필요\n",
    "import platform\n",
    "\n",
    "from matplotlib import font_manager, rc\n",
    "plt.rcParams['axes.unicode_minus'] = False\n",
    "\n",
    "if platform.system() == 'Windows':  # 윈도우\n",
    "    path = \"c:/Windows/Fonts/malgun.ttf\"\n",
    "    font_name = font_manager.FontProperties(fname=path).get_name()\n",
    "    rc('font', family=font_name)\n",
    "else:\n",
    "    print('Unknown system...  sorry~~~')\n",
    "\n",
    "\n",
    "sns.pairplot(fin_df_modi,kind='reg')"
   ]
  },
  {
   "cell_type": "code",
   "execution_count": 290,
   "id": "e082c032",
   "metadata": {},
   "outputs": [
    {
     "data": {
      "text/plain": [
       "(0.652243442896062, 0.006175325270177162)"
      ]
     },
     "execution_count": 290,
     "metadata": {},
     "output_type": "execute_result"
    }
   ],
   "source": [
    "pearsonr(fin_df_modi['매출액'],fin_df_modi['주간접종률(%)'])\n",
    "\n",
    "# pvalue가 0.05미만이므로 유의미한 상관성이 있으며\n",
    "# 상관계수가 0.65이므로 보통의 상관관계 있음"
   ]
  },
  {
   "cell_type": "code",
   "execution_count": 291,
   "id": "14e00eab",
   "metadata": {},
   "outputs": [
    {
     "data": {
      "text/plain": [
       "(0.7704029130695069, 0.00047926863271377876)"
      ]
     },
     "execution_count": 291,
     "metadata": {},
     "output_type": "execute_result"
    }
   ],
   "source": [
    "pearsonr(fin_df_modi['매출액'],fin_df_modi['누적접종률(%)']) \n",
    "\n",
    "# pvalue가 0.05 미만이므로 유의미한 상관성이 있으며\n",
    "# 상관계수가 0.77이므로, 아주 강한 상관관계가 있다고 볼 수 있다."
   ]
  },
  {
   "cell_type": "markdown",
   "id": "c8dc3a73",
   "metadata": {},
   "source": [
    "## 상관행렬"
   ]
  },
  {
   "cell_type": "code",
   "execution_count": 292,
   "id": "9c1646ea",
   "metadata": {},
   "outputs": [],
   "source": [
    "import numpy as np\n",
    "mat = np.zeros_like(fin_df_modi.corr(method = 'pearson'))"
   ]
  },
  {
   "cell_type": "code",
   "execution_count": 297,
   "id": "0b8d0777",
   "metadata": {},
   "outputs": [
    {
     "data": {
      "text/plain": [
       "<Figure size 864x720 with 0 Axes>"
      ]
     },
     "execution_count": 297,
     "metadata": {},
     "output_type": "execute_result"
    },
    {
     "data": {
      "text/plain": [
       "<AxesSubplot:>"
      ]
     },
     "execution_count": 297,
     "metadata": {},
     "output_type": "execute_result"
    },
    {
     "data": {
      "image/png": "[encoded data removed]",
      "text/plain": [
       "<Figure size 864x720 with 2 Axes>"
      ]
     },
     "metadata": {
      "needs_background": "light"
     },
     "output_type": "display_data"
    }
   ],
   "source": [
    "plt.figure(figsize=(12,10))\n",
    "sns.heatmap(fin_df_modi.corr(method = 'pearson'),\n",
    "            vmin = 0, vmax = +1, \n",
    "            annot = True, \n",
    "            cmap = 'RdYlBu_r', \n",
    "            linewidths=1,\n",
    "            annot_kws={\"size\": 40},\n",
    "            cbar_kws={\"shrink\": 0.4},\n",
    "            mask = mat)"
   ]
  },
  {
   "cell_type": "code",
   "execution_count": null,
   "id": "505eca97",
   "metadata": {},
   "outputs": [],
   "source": []
  }
 ],
 "metadata": {
  "kernelspec": {
   "display_name": "Python 3",
   "language": "python",
   "name": "python3"
  },
  "language_info": {
   "codemirror_mode": {
    "name": "ipython",
    "version": 3
   },
   "file_extension": ".py",
   "mimetype": "text/x-python",
   "name": "python",
   "nbconvert_exporter": "python",
   "pygments_lexer": "ipython3",
   "version": "3.8.8"
  }
 },
 "nbformat": 4,
 "nbformat_minor": 5
}
